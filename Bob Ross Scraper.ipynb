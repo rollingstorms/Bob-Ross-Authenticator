{
 "cells": [
  {
   "cell_type": "code",
   "execution_count": 1,
   "id": "755bdc5b",
   "metadata": {},
   "outputs": [],
   "source": [
    "import requests\n",
    "from bs4 import BeautifulSoup\n",
    "import concurrent.futures\n",
    "import pyarrow.feather as feather\n",
    "import os"
   ]
  },
  {
   "cell_type": "code",
   "execution_count": null,
   "id": "31c65930",
   "metadata": {},
   "outputs": [],
   "source": [
    "all_paintings = []\n",
    "for i in range(31):\n",
    "    r = requests.get(f'https://www.twoinchbrush.com/season/{i+1}')\n",
    "    soup = BeautifulSoup(r.content)\n",
    "    urls = soup.find_all('a')\n",
    "    urls = [a.get('href') for a in urls if '/painting/' in a.get('href')]\n",
    "    all_paintings.extend(urls)"
   ]
  },
  {
   "cell_type": "code",
   "execution_count": null,
   "id": "1515d346",
   "metadata": {},
   "outputs": [],
   "source": [
    "len(all_paintings)"
   ]
  },
  {
   "cell_type": "code",
   "execution_count": null,
   "id": "a61d6fd9",
   "metadata": {},
   "outputs": [],
   "source": [
    "all_paintings[0]"
   ]
  },
  {
   "cell_type": "code",
   "execution_count": null,
   "id": "70cfde46",
   "metadata": {},
   "outputs": [],
   "source": [
    "results = []\n",
    "\n",
    "for i, painting in enumerate(all_paintings):\n",
    "    r = requests.get(f'https://www.twoinchbrush.com{painting}')\n",
    "    \n",
    "    soup = BeautifulSoup(r.content)\n",
    "    title = r.url.replace('https://www.twoinchbrush.com/painting/','')\n",
    "    imgs = soup.find_all('img')\n",
    "    img = [img.get('src') for img in imgs if '/images/painting' in img.get('src')]\n",
    "    img = 'https://www.twoinchbrush.com{}'.format(img[0].replace('webp','png'))\n",
    "    results.append({'title': title,\n",
    "                   'link':img,\n",
    "                   'bob':1})\n",
    "    divs = soup.find_all('div')\n",
    "    fans = ['https://www.twoinchbrush.com{}'.format(div.get('data-img')) for div in divs if div.get('data-img') != None]\n",
    "    for fan in fans:\n",
    "        results.append({'title': title,\n",
    "                   'link':fan,\n",
    "                   'bob':0})\n",
    "    print(f'{i+1} / {len(all_paintings)}', end='\\r')"
   ]
  },
  {
   "cell_type": "code",
   "execution_count": null,
   "id": "599ba55e",
   "metadata": {},
   "outputs": [],
   "source": [
    "episode_links = []\n",
    "for i in range(4):\n",
    "    url = f'https://www.bbc.co.uk/programmes/m000hjkz/episodes/player?page={i}'\n",
    "    r = requests.gBeautifulSouprl)\n",
    "    soup = BeautifulSoup(r.content)\n",
    "    links = soup.find_all('h2', class_='programme__titles')\n",
    "    links = [link.find('a').get('href') for link in liepisode_links]\n",
    "    episode_links.extend(linksepisode_linksrequests"
   ]
  },
  {
   "cell_type": "code",
   "execution_count": null,
   "id": "b5c17c35",
   "metadata": {},
   "outputs": [],
   "source": [
    "for link in episode_links:\n",
    "    r = requests.get(link)\n",
    "    soup = BeautifulSoup(r.content)\n",
    "    div = soup.find('div', class_='episode-playout')\n",
    "    img = div.find('img').get('src')\n",
    "    title = soup.find('div', class_='island')\n",
    "    title = '-'.join(title.find('h1').text.lower().split())\n",
    "    results.append({'title': title,\n",
    "                   'link':img,\n",
    "                   'bob':1})"
   ]
  },
  {
   "cell_type": "code",
   "execution_count": null,
   "id": "d8700a5e",
   "metadata": {},
   "outputs": [],
   "source": [
    "pbs_links = []\n",
    "for i in range(34,39):\n",
    "    url = f'https://www.pbs.org/show/best-joy-painting/episodes/season/{i}/'\n",
    "    r = requests.get(url)\n",
    "    soup = BeautifulSoup(r.content)\n",
    "    soup = soup.find(class_='video-catalog__items')\n",
    "    pics = soup.find_all(class_='video-catalog__item')\n",
    "    for pic in pics:\n",
    "        img = pic.find('source').get('srcset').split()[-2].split('?')[0]\n",
    "        title ='-'.join(pic.find('h3').text.lower().split())\n",
    "        results.append({'title': title,\n",
    "                   'link':img,\n",
    "                   'bob':1})\n"
   ]
  },
  {
   "cell_type": "code",
   "execution_count": null,
   "id": "db181a85",
   "metadata": {},
   "outputs": [],
   "source": [
    "import pandas as pd\n",
    "\n",
    "df = pd.DataFrame(results)"
   ]
  },
  {
   "cell_type": "code",
   "execution_count": null,
   "id": "d394720b",
   "metadata": {},
   "outputs": [],
   "source": [
    "feather.write_feather(df, 'data/bob_ross.feather')"
   ]
  },
  {
   "cell_type": "code",
   "execution_count": 2,
   "id": "c64adad5",
   "metadata": {},
   "outputs": [],
   "source": [
    "df = feather.read_feather('data/bob_ross.feather')"
   ]
  },
  {
   "cell_type": "code",
   "execution_count": 14,
   "id": "29ccf2f8",
   "metadata": {},
   "outputs": [],
   "source": [
    "class ImageDownloader:\n",
    "    \n",
    "    def __init__(self, dataframe, folder_string):\n",
    "        self.df = dataframe\n",
    "\n",
    "        self.folder_string = folder_string\n",
    "        \n",
    "        self.path = f'./{folder_string}'\n",
    "        \n",
    "        self.bob_dir = self.path+'/bob'\n",
    "        self.not_bob_dir = self.path+'/not_bob'\n",
    "        \n",
    "        self._to_download = len(self.df)\n",
    "        \n",
    "    def download(self):\n",
    "        \n",
    "        self.downloaded_ = 0\n",
    "        \n",
    "        try:\n",
    "            print(f'created {self.path}')\n",
    "        except:\n",
    "            print(f'can\\'t create {self.path}')\n",
    "        try:\n",
    "            os.mkdir(self.bob_dir)\n",
    "            print(f'created {self.bob_dir}')\n",
    "        except:\n",
    "            print(f'can\\'t create {self.bob_dir}')\n",
    "        try:\n",
    "            os.mkdir(self.not_bob_dir)\n",
    "            print(f'created {self.not_bob_dir}')\n",
    "        except:\n",
    "            print(f'can\\'t create {self.not_bob_dir}')\n",
    "        \n",
    "\n",
    "        max_threads = 20\n",
    "        threads = min(max_threads, len(self.df))\n",
    "\n",
    "        indexes = self.df.index\n",
    "        \n",
    "        with concurrent.futures.ThreadPoolExecutor(max_workers=threads) as executor:\n",
    "            executor.map(self._download_imgs_for_set, indexes)\n",
    "            \n",
    "    def _download_imgs_for_set(self, index):\n",
    "        row = self.df.iloc[index]\n",
    "        filetype = row.link.split('.')[-1]\n",
    "        filename = f'{row.title}_{index}.{filetype}'\n",
    "        if row.bob == 1:\n",
    "            bob_not_bob = 'bob'\n",
    "        else:\n",
    "            bob_not_bob = 'not_bob'\n",
    "            \n",
    "        path = f'{self.folder_string}/{bob_not_bob}/{filename}'\n",
    "\n",
    "        img_data = requests.get(row.link)\n",
    "        \n",
    "        if img_data.ok:\n",
    "            with open(path, 'wb') as handler:\n",
    "                handler.write(img_data.content)\n",
    "            self.downloaded_ += 1\n",
    "        else:\n",
    "            self.bad_links.append(index)\n",
    "            \n",
    "        print(f'{self.downloaded_} / {len(self.df)}', end='\\r')"
   ]
  },
  {
   "cell_type": "code",
   "execution_count": 16,
   "id": "9c0de8e2",
   "metadata": {},
   "outputs": [
    {
     "name": "stdout",
     "output_type": "stream",
     "text": [
      "created ./data/images/all_images\n",
      "can't create ./data/images/all_images/bob\n",
      "can't create ./data/images/all_images/not_bob\n",
      "10529 / 1053810525 / 1053867 / 10538 / 10538470 / 10538661 / 10538858 / 10538859 / 105381425 / 105381438 / 105381505 / 105381641 / 105381999 / 105382369 / 105382410 / 105382447 / 105382451 / 105382591 / 105382634 / 105382742 / 105382755 / 105382756 / 105383113 / 105383173 / 105383371 / 105383837 / 105384203 / 105384261 / 105384311 / 105384438 / 105384820 / 105384885 / 105384929 / 105385188 / 105385215 / 105385223 / 105385354 / 105385755 / 105385812 / 105385948 / 105386035 / 105386232 / 105386239 / 105386252 / 105386328 / 105386559 / 105386682 / 105386693 / 105386715 / 105386742 / 105386962 / 105386979 / 105387286 / 105387430 / 105387569 / 105387666 / 105387752 / 105387908 / 105388056 / 105388069 / 105388079 / 105388317 / 105388342 / 105388375 / 105388412 / 105388616 / 105388787 / 105388793 / 105388855 / 105388871 / 105388992 / 105389057 / 105389339 / 105389365 / 105389391 / 105389392 / 105389505 / 105389656 / 105389763 / 105389912 / 1053810021 / 1053810147 / 1053810183 / 10538\r"
     ]
    }
   ],
   "source": [
    "try:\n",
    "    os.mkdir('./data/images')\n",
    "    os.mkdir('./data/images/all_images')\n",
    "except:\n",
    "    pass\n",
    "downloader = ImageDownloader(df, 'data/images/all_images').download()\n"
   ]
  },
  {
   "cell_type": "code",
   "execution_count": null,
   "id": "d20d0269",
   "metadata": {},
   "outputs": [],
   "source": []
  }
 ],
 "metadata": {
  "kernelspec": {
   "display_name": "Python 3 (ipykernel)",
   "language": "python",
   "name": "python3"
  },
  "language_info": {
   "codemirror_mode": {
    "name": "ipython",
    "version": 3
   },
   "file_extension": ".py",
   "mimetype": "text/x-python",
   "name": "python",
   "nbconvert_exporter": "python",
   "pygments_lexer": "ipython3",
   "version": "3.9.10"
  }
 },
 "nbformat": 4,
 "nbformat_minor": 5
}
