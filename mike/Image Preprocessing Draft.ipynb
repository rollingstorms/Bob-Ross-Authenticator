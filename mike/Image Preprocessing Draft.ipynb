{
 "cells": [
  {
   "cell_type": "code",
   "execution_count": 2,
   "metadata": {},
   "outputs": [],
   "source": [
    "import pyarrow.feather as feather\n",
    "from tensorflow.keras.preprocessing.image import ImageDataGenerator\n",
    "import tensorflow as tf\n",
    "import numpy as np"
   ]
  },
  {
   "cell_type": "code",
   "execution_count": 62,
   "metadata": {},
   "outputs": [],
   "source": [
    "df = feather.read_feather('data/artsy_full.feather')"
   ]
  },
  {
   "cell_type": "code",
   "execution_count": 64,
   "metadata": {},
   "outputs": [
    {
     "name": "stdout",
     "output_type": "stream",
     "text": [
      "<class 'pandas.core.frame.DataFrame'>\n",
      "RangeIndex: 27577 entries, 0 to 27576\n",
      "Data columns (total 20 columns):\n",
      " #   Column                Non-Null Count  Dtype  \n",
      "---  ------                --------------  -----  \n",
      " 0   id                    27577 non-null  object \n",
      " 1   slug                  27577 non-null  object \n",
      " 2   title                 27576 non-null  object \n",
      " 3   category              27576 non-null  object \n",
      " 4   medium                27575 non-null  object \n",
      " 5   date                  27577 non-null  object \n",
      " 6   iconicity             27577 non-null  float64\n",
      " 7   sold                  27577 non-null  bool   \n",
      " 8   image_versions        27469 non-null  object \n",
      " 9   dimensions_height_in  14120 non-null  float64\n",
      " 10  dimensions_width_in   13607 non-null  float64\n",
      " 11  dimensions_depth_in   836 non-null    float64\n",
      " 12  permalink             27577 non-null  object \n",
      " 13  api_link              27577 non-null  object \n",
      " 14  thumb_link            26482 non-null  object \n",
      " 15  image_link            27469 non-null  object \n",
      " 16  genes                 27577 non-null  object \n",
      " 17  artist                24686 non-null  object \n",
      " 18  artist_slug           24686 non-null  object \n",
      " 19  artist_id             24686 non-null  object \n",
      "dtypes: bool(1), float64(4), object(15)\n",
      "memory usage: 4.0+ MB\n"
     ]
    }
   ],
   "source": [
    "df.info()"
   ]
  },
  {
   "cell_type": "code",
   "execution_count": 65,
   "metadata": {},
   "outputs": [],
   "source": [
    "df.dropna(subset=['image_versions'], inplace=True)"
   ]
  },
  {
   "cell_type": "code",
   "execution_count": 66,
   "metadata": {},
   "outputs": [],
   "source": [
    "def convert_to_list(value):\n",
    "    value = value.tolist()\n",
    "    \n",
    "    return value\n",
    "\n",
    "df['image_versions'] = df['image_versions'].apply(convert_to_list)"
   ]
  },
  {
   "cell_type": "code",
   "execution_count": 67,
   "metadata": {},
   "outputs": [
    {
     "data": {
      "text/plain": [
       "{'large': 22671,\n",
       " 'large_rectangle': 25813,\n",
       " 'larger': 24826,\n",
       " 'medium': 26482,\n",
       " 'medium_rectangle': 23872,\n",
       " 'normalized': 26878,\n",
       " 'small': 23501,\n",
       " 'square': 23563,\n",
       " 'tall': 23087}"
      ]
     },
     "execution_count": 67,
     "metadata": {},
     "output_type": "execute_result"
    }
   ],
   "source": [
    "all_versions = dict.fromkeys(('large',\n",
    "                             'large_rectangle',\n",
    "                             'larger',\n",
    "                             'medium',\n",
    "                             'medium_rectangle',\n",
    "                             'normalized',\n",
    "                             'small',\n",
    "                             'square',\n",
    "                             'tall'),0)\n",
    "def get_versions(value):\n",
    "    for key in value:\n",
    "        all_versions[key] += 1\n",
    "    \n",
    "df['image_versions'].apply(get_versions)\n",
    "\n",
    "all_versions"
   ]
  },
  {
   "cell_type": "code",
   "execution_count": 68,
   "metadata": {},
   "outputs": [
    {
     "name": "stdout",
     "output_type": "stream",
     "text": [
      "70\n"
     ]
    },
    {
     "data": {
      "text/plain": [
       "{'large': 0,\n",
       " 'large_rectangle': 0,\n",
       " 'larger': 0,\n",
       " 'medium': 0,\n",
       " 'medium_rectangle': 30,\n",
       " 'normalized': 36,\n",
       " 'small': 2,\n",
       " 'square': 2,\n",
       " 'tall': 0}"
      ]
     },
     "execution_count": 68,
     "metadata": {},
     "output_type": "execute_result"
    }
   ],
   "source": [
    "not_large = df[df['image_versions'].apply(lambda x: 'large' not in x[0])].image_versions\n",
    "\n",
    "first_version_not_large = dict().fromkeys(all_versions, 0)\n",
    "\n",
    "for version_list in not_large:\n",
    "    if ('large' and 'medium') not in version_list:\n",
    "        first_version_not_large[version_list[0]] += 1 \n",
    "    \n",
    "print(sum(first_version_not_large.values()))\n",
    "first_version_not_large\n",
    "\n"
   ]
  },
  {
   "cell_type": "code",
   "execution_count": 77,
   "metadata": {},
   "outputs": [],
   "source": [
    "def get_largest_version(row):\n",
    "    \n",
    "    image_versions = row['image_versions']\n",
    "    \n",
    "    if 'large' in image_versions:\n",
    "        version = 'large'\n",
    "    elif 'medium' in image_versions:\n",
    "        version = 'medium'\n",
    "    else:\n",
    "        version = image_versions[0]\n",
    "    \n",
    "    row['main_image_version'] = version\n",
    "    \n",
    "    return row\n",
    "    \n",
    "\n",
    "df = df.apply(get_largest_version, axis=1)"
   ]
  },
  {
   "cell_type": "code",
   "execution_count": 78,
   "metadata": {},
   "outputs": [
    {
     "data": {
      "text/plain": [
       "large               22671\n",
       "medium               4463\n",
       "large_rectangle       201\n",
       "larger                 64\n",
       "normalized             36\n",
       "medium_rectangle       30\n",
       "square                  2\n",
       "small                   2\n",
       "Name: main_image_version, dtype: int64"
      ]
     },
     "execution_count": 78,
     "metadata": {},
     "output_type": "execute_result"
    }
   ],
   "source": [
    "df.main_image_version.value_counts()"
   ]
  },
  {
   "cell_type": "code",
   "execution_count": 81,
   "metadata": {},
   "outputs": [],
   "source": [
    "feather.write_feather(df,'data/artsy_full_main_image_version.feather')"
   ]
  },
  {
   "cell_type": "code",
   "execution_count": null,
   "metadata": {},
   "outputs": [],
   "source": []
  }
 ],
 "metadata": {
  "kernelspec": {
   "display_name": "Python 3 (ipykernel)",
   "language": "python",
   "name": "python3"
  },
  "language_info": {
   "codemirror_mode": {
    "name": "ipython",
    "version": 3
   },
   "file_extension": ".py",
   "mimetype": "text/x-python",
   "name": "python",
   "nbconvert_exporter": "python",
   "pygments_lexer": "ipython3",
   "version": "3.9.9"
  }
 },
 "nbformat": 4,
 "nbformat_minor": 4
}
