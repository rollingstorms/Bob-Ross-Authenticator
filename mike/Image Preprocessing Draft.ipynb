{
 "cells": [
  {
   "cell_type": "code",
   "execution_count": 237,
   "metadata": {},
   "outputs": [],
   "source": [
    "import pyarrow.feather as feather\n",
    "from tensorflow.keras.preprocessing.image import ImageDataGenerator\n",
    "import tensorflow as tf\n",
    "import numpy as np\n",
    "import requests\n",
    "import os\n",
    "import concurrent.futures\n",
    "import multiprocessing\n",
    "import tensorflow as tf"
   ]
  },
  {
   "cell_type": "code",
   "execution_count": 238,
   "metadata": {},
   "outputs": [],
   "source": [
    "df = feather.read_feather('data/artsy_full.feather')"
   ]
  },
  {
   "cell_type": "code",
   "execution_count": 239,
   "metadata": {},
   "outputs": [
    {
     "name": "stdout",
     "output_type": "stream",
     "text": [
      "<class 'pandas.core.frame.DataFrame'>\n",
      "RangeIndex: 27577 entries, 0 to 27576\n",
      "Data columns (total 20 columns):\n",
      " #   Column                Non-Null Count  Dtype  \n",
      "---  ------                --------------  -----  \n",
      " 0   id                    27577 non-null  object \n",
      " 1   slug                  27577 non-null  object \n",
      " 2   title                 27576 non-null  object \n",
      " 3   category              27576 non-null  object \n",
      " 4   medium                27575 non-null  object \n",
      " 5   date                  27577 non-null  object \n",
      " 6   iconicity             27577 non-null  float64\n",
      " 7   sold                  27577 non-null  bool   \n",
      " 8   image_versions        27469 non-null  object \n",
      " 9   dimensions_height_in  14120 non-null  float64\n",
      " 10  dimensions_width_in   13607 non-null  float64\n",
      " 11  dimensions_depth_in   836 non-null    float64\n",
      " 12  permalink             27577 non-null  object \n",
      " 13  api_link              27577 non-null  object \n",
      " 14  thumb_link            26482 non-null  object \n",
      " 15  image_link            27469 non-null  object \n",
      " 16  genes                 27577 non-null  object \n",
      " 17  artist                24686 non-null  object \n",
      " 18  artist_slug           24686 non-null  object \n",
      " 19  artist_id             24686 non-null  object \n",
      "dtypes: bool(1), float64(4), object(15)\n",
      "memory usage: 4.0+ MB\n"
     ]
    }
   ],
   "source": [
    "df.info()"
   ]
  },
  {
   "cell_type": "code",
   "execution_count": 240,
   "metadata": {},
   "outputs": [],
   "source": [
    "df.dropna(subset=['image_versions'], inplace=True)"
   ]
  },
  {
   "cell_type": "code",
   "execution_count": 241,
   "metadata": {},
   "outputs": [],
   "source": [
    "def convert_to_list(value):\n",
    "    value = value.tolist()\n",
    "    \n",
    "    return value\n",
    "\n",
    "def get_largest_version(row):\n",
    "    \n",
    "    image_versions = row['image_versions']\n",
    "    \n",
    "    if 'large' in image_versions:\n",
    "        version = 'large'\n",
    "    elif 'medium' in image_versions:\n",
    "        version = 'medium'\n",
    "    else:\n",
    "        version = image_versions[0]\n",
    "    \n",
    "    row['main_image_version'] = version\n",
    "    \n",
    "    return row\n",
    "    \n",
    "df['image_versions'] = df['image_versions'].apply(convert_to_list)\n",
    "df = df.apply(get_largest_version, axis=1)"
   ]
  },
  {
   "cell_type": "code",
   "execution_count": 245,
   "metadata": {},
   "outputs": [
    {
     "data": {
      "text/plain": [
       "array(['Painting', 'Sculpture', 'Drawing, Collage or other Work on Paper',\n",
       "       'Photography', 'Design/Decorative Art', 'Print', 'Mixed Media',\n",
       "       'Architecture', 'Textile Arts', 'Posters', 'Other', None,\n",
       "       'Books and Portfolios', '', 'Fashion Design and Wearable Art',\n",
       "       'Jewelry'], dtype=object)"
      ]
     },
     "execution_count": 245,
     "metadata": {},
     "output_type": "execute_result"
    }
   ],
   "source": [
    "df.category.unique()"
   ]
  },
  {
   "cell_type": "code",
   "execution_count": 247,
   "metadata": {
    "scrolled": true
   },
   "outputs": [],
   "source": [
    "df = df[df['category'] == 'Painting']"
   ]
  },
  {
   "cell_type": "code",
   "execution_count": 248,
   "metadata": {},
   "outputs": [],
   "source": [
    "from sklearn.model_selection import train_test_split\n",
    "from sklearn.preprocessing import PowerTransformer\n",
    "\n",
    "transform = PowerTransformer()\n",
    "\n",
    "X = df.drop(columns=['iconicity'])\n",
    "y = transform.fit_transform(df[['iconicity']])\n",
    "\n",
    "\n",
    "X_train, X_val, y_train, y_val = train_test_split(X, y, test_size=0.2, random_state=42, shuffle=True)"
   ]
  },
  {
   "cell_type": "code",
   "execution_count": 286,
   "metadata": {},
   "outputs": [
    {
     "data": {
      "text/plain": [
       "count    2349.000000\n",
       "mean       37.037656\n",
       "std        44.836938\n",
       "min        12.449186\n",
       "25%        14.114769\n",
       "50%        30.507436\n",
       "75%        36.125105\n",
       "max       756.280585\n",
       "Name: iconicity, dtype: float64"
      ]
     },
     "execution_count": 286,
     "metadata": {},
     "output_type": "execute_result"
    }
   ],
   "source": [
    "df['iconicity'].describe()"
   ]
  },
  {
   "cell_type": "code",
   "execution_count": 289,
   "metadata": {},
   "outputs": [
    {
     "data": {
      "text/plain": [
       "0.25202213707960835"
      ]
     },
     "execution_count": 289,
     "metadata": {},
     "output_type": "execute_result"
    }
   ],
   "source": [
    "(df['iconicity'] > 36).sum() / len(df)"
   ]
  },
  {
   "cell_type": "code",
   "execution_count": 285,
   "metadata": {},
   "outputs": [
    {
     "data": {
      "text/plain": [
       "(array([688., 359., 961., 146.,  81.,  25.,  67.,  16.,   1.,   5.]),\n",
       " array([2.5216552 , 2.93233093, 3.34300665, 3.75368238, 4.1643581 ,\n",
       "        4.57503383, 4.98570955, 5.39638528, 5.807061  , 6.21773673,\n",
       "        6.62841245]),\n",
       " <BarContainer object of 10 artists>)"
      ]
     },
     "execution_count": 285,
     "metadata": {},
     "output_type": "execute_result"
    },
    {
     "data": {
      "image/png": "[encoded data removed]",
      "text/plain": [
       "<Figure size 432x288 with 1 Axes>"
      ]
     },
     "metadata": {
      "needs_background": "light"
     },
     "output_type": "display_data"
    }
   ],
   "source": [
    "plt.hist(np.log(df['iconicity']))"
   ]
  },
  {
   "cell_type": "code",
   "execution_count": 249,
   "metadata": {},
   "outputs": [],
   "source": [
    "X_train.reset_index(inplace=True)\n",
    "# y_train.reset_index(inplace=True, drop=True)\n",
    "X_val.reset_index(inplace=True)\n",
    "# y_val.reset_index(inplace=True, drop=True)"
   ]
  },
  {
   "cell_type": "code",
   "execution_count": 262,
   "metadata": {},
   "outputs": [],
   "source": [
    "class ImageDownloader:\n",
    "    \n",
    "    def __init__(self):\n",
    "        pass\n",
    "        \n",
    "    def download(self, df, subset_string):\n",
    "        self.df = df\n",
    "        self.subset_string = subset_string\n",
    "        self.bad_link = []\n",
    "        \n",
    "        try:\n",
    "            path = './images'\n",
    "            os.mkdir(path)\n",
    "        except:\n",
    "            pass\n",
    "        try:\n",
    "            os.mkdir(path+'/'+subset_string)\n",
    "        except:\n",
    "            pass\n",
    "        try:\n",
    "            os.mkdir(path+'/'+subset_string+'/0')\n",
    "        except:\n",
    "            pass\n",
    "        \n",
    "        \n",
    "        self.image_dir = path+'/'+subset_string\n",
    "\n",
    "        max_threads = 15\n",
    "        threads = min(max_threads, len(df))\n",
    "\n",
    "        indexes = df.index\n",
    "\n",
    "        with concurrent.futures.ThreadPoolExecutor(max_workers=threads) as executor:\n",
    "            executor.map(self._download_imgs_for_set, indexes)\n",
    "            \n",
    "        return self\n",
    "            \n",
    "    def _download_imgs_for_set(self, index):\n",
    "\n",
    "        row = self.df.iloc[index]\n",
    "        filename = f'{str(index).zfill(5)}.jpg'\n",
    "        path = f'images/{self.subset_string}/0/{filename}'\n",
    "\n",
    "        img_data = requests.get(row.image_link.replace('{image_version}', row.main_image_version))\n",
    "        if img_data.ok:\n",
    "            with open(path, 'wb') as handler:\n",
    "                handler.write(img_data.content)\n",
    "        else:\n",
    "            self.bad_link.append(index)\n",
    "        \n",
    "        \n",
    "            \n",
    "            "
   ]
  },
  {
   "cell_type": "code",
   "execution_count": 263,
   "metadata": {},
   "outputs": [
    {
     "data": {
      "text/plain": [
       "<__main__.ImageDownloader at 0x2ffa5e0d0>"
      ]
     },
     "execution_count": 263,
     "metadata": {},
     "output_type": "execute_result"
    }
   ],
   "source": [
    "train_downloader = ImageDownloader()\n",
    "train_downloader.download(X_train, 'train')\n",
    "val_downloader = ImageDownloader()\n",
    "val_downloader.download(X_val, 'val')"
   ]
  },
  {
   "cell_type": "code",
   "execution_count": 264,
   "metadata": {},
   "outputs": [
    {
     "data": {
      "text/plain": [
       "'./images/train'"
      ]
     },
     "execution_count": 264,
     "metadata": {},
     "output_type": "execute_result"
    }
   ],
   "source": [
    "train_downloader.image_dir"
   ]
  },
  {
   "cell_type": "code",
   "execution_count": 265,
   "metadata": {},
   "outputs": [
    {
     "data": {
      "text/plain": [
       "1879"
      ]
     },
     "execution_count": 265,
     "metadata": {},
     "output_type": "execute_result"
    }
   ],
   "source": [
    "len(os.listdir('./images/train/0'))"
   ]
  },
  {
   "cell_type": "code",
   "execution_count": 266,
   "metadata": {},
   "outputs": [
    {
     "data": {
      "text/plain": [
       "1879"
      ]
     },
     "execution_count": 266,
     "metadata": {},
     "output_type": "execute_result"
    }
   ],
   "source": [
    "len(y_train)"
   ]
  },
  {
   "cell_type": "code",
   "execution_count": 267,
   "metadata": {},
   "outputs": [
    {
     "name": "stdout",
     "output_type": "stream",
     "text": [
      "Found 1879 files belonging to 1 classes.\n",
      "Using 1504 files for training.\n",
      "Found 470 files belonging to 1 classes.\n",
      "Using 94 files for validation.\n"
     ]
    }
   ],
   "source": [
    "batch_size = 128\n",
    "img_width = 224\n",
    "img_height = 224\n",
    "\n",
    "train_ds = tf.keras.utils.image_dataset_from_directory(directory=train_downloader.image_dir,\n",
    "                                                       labels=list(y_train), validation_split=0.2,\n",
    "                                                       subset='training',\n",
    "                                                       seed=42,\n",
    "                                                       image_size=(img_height, img_width),\n",
    "                                                       batch_size=batch_size,\n",
    "                                                      shuffle=False)\n",
    "\n",
    "val_ds = tf.keras.utils.image_dataset_from_directory(directory=val_downloader.image_dir,\n",
    "                                                     labels=list(y_val), validation_split=0.2,\n",
    "                                                     subset='validation',\n",
    "                                                     seed=42,\n",
    "                                                     image_size=(img_height, img_width),\n",
    "                                                     batch_size=batch_size,\n",
    "                                                    shuffle=False)"
   ]
  },
  {
   "cell_type": "code",
   "execution_count": 268,
   "metadata": {},
   "outputs": [],
   "source": [
    "for elem in train_ds.take(1):\n",
    "    test = elem"
   ]
  },
  {
   "cell_type": "code",
   "execution_count": 269,
   "metadata": {},
   "outputs": [
    {
     "data": {
      "image/png": "[encoded data removed]",
      "text/plain": [
       "<PIL.Image.Image image mode=RGB size=224x224 at 0x350956790>"
      ]
     },
     "execution_count": 269,
     "metadata": {},
     "output_type": "execute_result"
    }
   ],
   "source": [
    "tf.keras.utils.array_to_img(test[0][0])"
   ]
  },
  {
   "cell_type": "code",
   "execution_count": 270,
   "metadata": {},
   "outputs": [
    {
     "data": {
      "text/plain": [
       "<tf.Tensor: shape=(1,), dtype=float64, numpy=array([-1.38707276])>"
      ]
     },
     "execution_count": 270,
     "metadata": {},
     "output_type": "execute_result"
    }
   ],
   "source": [
    "test[1][0]"
   ]
  },
  {
   "cell_type": "code",
   "execution_count": 271,
   "metadata": {},
   "outputs": [],
   "source": [
    "AUTOTUNE = tf.data.AUTOTUNE\n",
    "\n",
    "train_ds = train_ds.cache().prefetch(buffer_size=AUTOTUNE).repeat()\n",
    "val_ds = val_ds.cache().prefetch(buffer_size=AUTOTUNE).repeat()"
   ]
  },
  {
   "cell_type": "code",
   "execution_count": 272,
   "metadata": {},
   "outputs": [],
   "source": [
    "from keras.models import Sequential\n",
    "from keras.layers import Dense, Conv2D, MaxPool2D , Flatten"
   ]
  },
  {
   "cell_type": "code",
   "execution_count": 273,
   "metadata": {},
   "outputs": [],
   "source": [
    "\n",
    "\n",
    "model = Sequential([\n",
    "    Conv2D(input_shape=(224,224,3),filters=64,kernel_size=(3,3),padding=\"same\", activation=\"relu\"),\n",
    "    MaxPool2D(pool_size=(2,2),strides=(2,2)),\n",
    "    Conv2D(filters=128, kernel_size=(3,3), padding=\"same\", activation=\"relu\"),\n",
    "    Conv2D(filters=128, kernel_size=(3,3), padding=\"same\", activation=\"relu\"),\n",
    "    MaxPool2D(pool_size=(2,2),strides=(2,2)),\n",
    "    Conv2D(filters=256, kernel_size=(3,3), padding=\"same\", activation=\"relu\"),\n",
    "    Conv2D(filters=256, kernel_size=(3,3), padding=\"same\", activation=\"relu\"),\n",
    "    Conv2D(filters=256, kernel_size=(3,3), padding=\"same\", activation=\"relu\"),\n",
    "    MaxPool2D(pool_size=(2,2),strides=(2,2)),\n",
    "    Conv2D(filters=512, kernel_size=(3,3), padding=\"same\", activation=\"relu\"),\n",
    "    Conv2D(filters=512, kernel_size=(3,3), padding=\"same\", activation=\"relu\"),\n",
    "    Conv2D(filters=512, kernel_size=(3,3), padding=\"same\", activation=\"relu\"),\n",
    "    MaxPool2D(pool_size=(2,2),strides=(2,2)),\n",
    "    Conv2D(filters=512, kernel_size=(3,3), padding=\"same\", activation=\"relu\"),\n",
    "    Conv2D(filters=512, kernel_size=(3,3), padding=\"same\", activation=\"relu\"),\n",
    "    Conv2D(filters=512, kernel_size=(3,3), padding=\"same\", activation=\"relu\"),\n",
    "    MaxPool2D(pool_size=(2,2),strides=(2,2)),\n",
    "    Flatten(),\n",
    "    Dense(units=4096,activation=\"relu\"),\n",
    "    Dense(units=4096,activation=\"relu\"),\n",
    "    Dense(units=1)\n",
    "])\n",
    "\n",
    "model_simple = Sequential([\n",
    "    Conv2D(input_shape=(224,224,3),filters=64,kernel_size=(3,3),padding=\"same\", activation=\"relu\"),\n",
    "    MaxPool2D(pool_size=(2,2),strides=(2,2)),\n",
    "    Conv2D(filters=128, kernel_size=(3,3), padding=\"same\", activation=\"relu\"),\n",
    "    MaxPool2D(pool_size=(2,2),strides=(2,2)),\n",
    "    Conv2D(filters=256, kernel_size=(3,3), padding=\"same\", activation=\"relu\"),\n",
    "    MaxPool2D(pool_size=(2,2),strides=(2,2)),\n",
    "    Conv2D(filters=512, kernel_size=(3,3), padding=\"same\", activation=\"relu\"),\n",
    "    MaxPool2D(pool_size=(2,2),strides=(2,2)),\n",
    "    Conv2D(filters=512, kernel_size=(3,3), padding=\"same\", activation=\"relu\"),\n",
    "    MaxPool2D(pool_size=(2,2),strides=(2,2)),\n",
    "    Flatten(),\n",
    "    Dense(units=4096,activation=\"relu\"),\n",
    "    Dense(units=1)\n",
    "])"
   ]
  },
  {
   "cell_type": "code",
   "execution_count": 274,
   "metadata": {},
   "outputs": [],
   "source": [
    "import warnings\n",
    "warnings.filterwarnings(\"ignore\")"
   ]
  },
  {
   "cell_type": "code",
   "execution_count": 275,
   "metadata": {},
   "outputs": [
    {
     "name": "stdout",
     "output_type": "stream",
     "text": [
      "11\n"
     ]
    }
   ],
   "source": [
    "steps_per_epoch = 1504//batch_size\n",
    "\n",
    "validation_steps = 94//batch_size\n",
    "print(steps_per_epoch)"
   ]
  },
  {
   "cell_type": "code",
   "execution_count": 276,
   "metadata": {},
   "outputs": [
    {
     "data": {
      "text/plain": [
       "0"
      ]
     },
     "execution_count": 276,
     "metadata": {},
     "output_type": "execute_result"
    }
   ],
   "source": [
    "validation_steps"
   ]
  },
  {
   "cell_type": "code",
   "execution_count": 277,
   "metadata": {},
   "outputs": [
    {
     "name": "stdout",
     "output_type": "stream",
     "text": [
      "Epoch 1/50\n"
     ]
    },
    {
     "name": "stderr",
     "output_type": "stream",
     "text": [
      "2022-08-02 17:50:59.312764: I tensorflow/core/grappler/optimizers/custom_graph_optimizer_registry.cc:113] Plugin optimizer for device_type GPU is enabled.\n"
     ]
    },
    {
     "name": "stdout",
     "output_type": "stream",
     "text": [
      "11/11 [==============================] - ETA: 0s - loss: 957.7009 - mse: 10155302.0000 WARNING:tensorflow:Early stopping conditioned on metric `val_mse` which is not available. Available metrics are: loss,mse\n",
      "11/11 [==============================] - 21s 2s/step - loss: 957.7009 - mse: 10155302.0000\n",
      "Epoch 2/50\n",
      "11/11 [==============================] - ETA: 0s - loss: 0.8014 - mse: 1.0390WARNING:tensorflow:Early stopping conditioned on metric `val_mse` which is not available. Available metrics are: loss,mse\n",
      "11/11 [==============================] - 16s 2s/step - loss: 0.8014 - mse: 1.0390\n",
      "Epoch 3/50\n",
      "11/11 [==============================] - ETA: 0s - loss: 0.7910 - mse: 1.0129WARNING:tensorflow:Early stopping conditioned on metric `val_mse` which is not available. Available metrics are: loss,mse\n",
      "11/11 [==============================] - 16s 1s/step - loss: 0.7910 - mse: 1.0129\n",
      "Epoch 4/50\n",
      "11/11 [==============================] - ETA: 0s - loss: 0.7614 - mse: 0.9974WARNING:tensorflow:Early stopping conditioned on metric `val_mse` which is not available. Available metrics are: loss,mse\n",
      "11/11 [==============================] - 16s 1s/step - loss: 0.7614 - mse: 0.9974\n",
      "Epoch 5/50\n",
      "11/11 [==============================] - ETA: 0s - loss: 0.7636 - mse: 1.0138WARNING:tensorflow:Early stopping conditioned on metric `val_mse` which is not available. Available metrics are: loss,mse\n",
      "11/11 [==============================] - 16s 1s/step - loss: 0.7636 - mse: 1.0138\n",
      "Epoch 6/50\n",
      "11/11 [==============================] - ETA: 0s - loss: 0.7695 - mse: 1.0180WARNING:tensorflow:Early stopping conditioned on metric `val_mse` which is not available. Available metrics are: loss,mse\n",
      "11/11 [==============================] - 16s 2s/step - loss: 0.7695 - mse: 1.0180\n",
      "Epoch 7/50\n",
      "11/11 [==============================] - ETA: 0s - loss: 0.7424 - mse: 0.9653WARNING:tensorflow:Early stopping conditioned on metric `val_mse` which is not available. Available metrics are: loss,mse\n",
      "11/11 [==============================] - 16s 1s/step - loss: 0.7424 - mse: 0.9653\n",
      "Epoch 8/50\n",
      "11/11 [==============================] - ETA: 0s - loss: 0.7527 - mse: 0.9861WARNING:tensorflow:Early stopping conditioned on metric `val_mse` which is not available. Available metrics are: loss,mse\n",
      "11/11 [==============================] - 16s 1s/step - loss: 0.7527 - mse: 0.9861\n",
      "Epoch 9/50\n",
      "11/11 [==============================] - ETA: 0s - loss: 0.7440 - mse: 0.9639WARNING:tensorflow:Early stopping conditioned on metric `val_mse` which is not available. Available metrics are: loss,mse\n",
      "11/11 [==============================] - 16s 1s/step - loss: 0.7440 - mse: 0.9639\n",
      "Epoch 10/50\n",
      "11/11 [==============================] - ETA: 0s - loss: 0.7552 - mse: 0.9544WARNING:tensorflow:Early stopping conditioned on metric `val_mse` which is not available. Available metrics are: loss,mse\n",
      "11/11 [==============================] - 16s 1s/step - loss: 0.7552 - mse: 0.9544\n",
      "Epoch 11/50\n",
      "11/11 [==============================] - ETA: 0s - loss: 0.7342 - mse: 0.9122WARNING:tensorflow:Early stopping conditioned on metric `val_mse` which is not available. Available metrics are: loss,mse\n",
      "11/11 [==============================] - 16s 1s/step - loss: 0.7342 - mse: 0.9122\n",
      "Epoch 12/50\n",
      "11/11 [==============================] - ETA: 0s - loss: 0.7247 - mse: 0.8976WARNING:tensorflow:Early stopping conditioned on metric `val_mse` which is not available. Available metrics are: loss,mse\n",
      "11/11 [==============================] - 16s 1s/step - loss: 0.7247 - mse: 0.8976\n",
      "Epoch 13/50\n",
      " 4/11 [=========>....................] - ETA: 10s - loss: 0.7211 - mse: 0.9149WARNING:tensorflow:Can save best model only with val_mse available, skipping.\n",
      "11/11 [==============================] - ETA: 0s - loss: 0.7160 - mse: 0.8902WARNING:tensorflow:Early stopping conditioned on metric `val_mse` which is not available. Available metrics are: loss,mse\n",
      "11/11 [==============================] - 16s 1s/step - loss: 0.7160 - mse: 0.8902\n",
      "Epoch 14/50\n",
      "11/11 [==============================] - ETA: 0s - loss: 0.6959 - mse: 0.8353WARNING:tensorflow:Early stopping conditioned on metric `val_mse` which is not available. Available metrics are: loss,mse\n",
      "11/11 [==============================] - 16s 1s/step - loss: 0.6959 - mse: 0.8353\n",
      "Epoch 15/50\n",
      "11/11 [==============================] - ETA: 0s - loss: 0.6887 - mse: 0.8183WARNING:tensorflow:Early stopping conditioned on metric `val_mse` which is not available. Available metrics are: loss,mse\n",
      "11/11 [==============================] - 16s 1s/step - loss: 0.6887 - mse: 0.8183\n",
      "Epoch 16/50\n",
      "11/11 [==============================] - ETA: 0s - loss: 0.6528 - mse: 0.7513WARNING:tensorflow:Early stopping conditioned on metric `val_mse` which is not available. Available metrics are: loss,mse\n",
      "11/11 [==============================] - 16s 1s/step - loss: 0.6528 - mse: 0.7513\n",
      "Epoch 17/50\n",
      "11/11 [==============================] - ETA: 0s - loss: 0.6365 - mse: 0.7075WARNING:tensorflow:Early stopping conditioned on metric `val_mse` which is not available. Available metrics are: loss,mse\n",
      "11/11 [==============================] - 16s 1s/step - loss: 0.6365 - mse: 0.7075\n",
      "Epoch 18/50\n",
      "11/11 [==============================] - ETA: 0s - loss: 0.6474 - mse: 0.7404WARNING:tensorflow:Early stopping conditioned on metric `val_mse` which is not available. Available metrics are: loss,mse\n",
      "11/11 [==============================] - 16s 1s/step - loss: 0.6474 - mse: 0.7404\n",
      "Epoch 19/50\n",
      "11/11 [==============================] - ETA: 0s - loss: 0.5991 - mse: 0.6469WARNING:tensorflow:Early stopping conditioned on metric `val_mse` which is not available. Available metrics are: loss,mse\n",
      "11/11 [==============================] - 17s 2s/step - loss: 0.5991 - mse: 0.6469\n",
      "Epoch 20/50\n",
      "11/11 [==============================] - ETA: 0s - loss: 0.5884 - mse: 0.6238WARNING:tensorflow:Early stopping conditioned on metric `val_mse` which is not available. Available metrics are: loss,mse\n",
      "11/11 [==============================] - 16s 1s/step - loss: 0.5884 - mse: 0.6238\n",
      "Epoch 21/50\n",
      "11/11 [==============================] - ETA: 0s - loss: 0.5842 - mse: 0.6209WARNING:tensorflow:Early stopping conditioned on metric `val_mse` which is not available. Available metrics are: loss,mse\n",
      "11/11 [==============================] - 16s 1s/step - loss: 0.5842 - mse: 0.6209\n",
      "Epoch 22/50\n",
      "11/11 [==============================] - ETA: 0s - loss: 0.5607 - mse: 0.5822WARNING:tensorflow:Early stopping conditioned on metric `val_mse` which is not available. Available metrics are: loss,mse\n",
      "11/11 [==============================] - 16s 1s/step - loss: 0.5607 - mse: 0.5822\n",
      "Epoch 23/50\n",
      "11/11 [==============================] - ETA: 0s - loss: 0.5531 - mse: 0.5582WARNING:tensorflow:Early stopping conditioned on metric `val_mse` which is not available. Available metrics are: loss,mse\n",
      "11/11 [==============================] - 16s 1s/step - loss: 0.5531 - mse: 0.5582\n",
      "Epoch 24/50\n",
      "11/11 [==============================] - ETA: 0s - loss: 0.5418 - mse: 0.5578WARNING:tensorflow:Early stopping conditioned on metric `val_mse` which is not available. Available metrics are: loss,mse\n",
      "11/11 [==============================] - 16s 1s/step - loss: 0.5418 - mse: 0.5578\n",
      "Epoch 25/50\n",
      " 9/11 [=======================>......] - ETA: 3s - loss: 0.5329 - mse: 0.5353WARNING:tensorflow:Can save best model only with val_mse available, skipping.\n",
      "11/11 [==============================] - ETA: 0s - loss: 0.5347 - mse: 0.5384WARNING:tensorflow:Early stopping conditioned on metric `val_mse` which is not available. Available metrics are: loss,mse\n",
      "11/11 [==============================] - 16s 2s/step - loss: 0.5347 - mse: 0.5384\n",
      "Epoch 26/50\n",
      "11/11 [==============================] - ETA: 0s - loss: 0.5166 - mse: 0.5102WARNING:tensorflow:Early stopping conditioned on metric `val_mse` which is not available. Available metrics are: loss,mse\n",
      "11/11 [==============================] - 16s 2s/step - loss: 0.5166 - mse: 0.5102\n",
      "Epoch 27/50\n",
      "11/11 [==============================] - ETA: 0s - loss: 0.5064 - mse: 0.4883WARNING:tensorflow:Early stopping conditioned on metric `val_mse` which is not available. Available metrics are: loss,mse\n",
      "11/11 [==============================] - 17s 2s/step - loss: 0.5064 - mse: 0.4883\n"
     ]
    },
    {
     "name": "stdout",
     "output_type": "stream",
     "text": [
      "Epoch 28/50\n",
      "11/11 [==============================] - ETA: 0s - loss: 0.4614 - mse: 0.4231WARNING:tensorflow:Early stopping conditioned on metric `val_mse` which is not available. Available metrics are: loss,mse\n",
      "11/11 [==============================] - 16s 1s/step - loss: 0.4614 - mse: 0.4231\n",
      "Epoch 29/50\n",
      "11/11 [==============================] - ETA: 0s - loss: 0.4440 - mse: 0.3994WARNING:tensorflow:Early stopping conditioned on metric `val_mse` which is not available. Available metrics are: loss,mse\n",
      "11/11 [==============================] - 16s 1s/step - loss: 0.4440 - mse: 0.3994\n",
      "Epoch 30/50\n",
      "11/11 [==============================] - ETA: 0s - loss: 0.4691 - mse: 0.4328WARNING:tensorflow:Early stopping conditioned on metric `val_mse` which is not available. Available metrics are: loss,mse\n",
      "11/11 [==============================] - 16s 1s/step - loss: 0.4691 - mse: 0.4328\n",
      "Epoch 31/50\n",
      "11/11 [==============================] - ETA: 0s - loss: 0.4688 - mse: 0.4315WARNING:tensorflow:Early stopping conditioned on metric `val_mse` which is not available. Available metrics are: loss,mse\n",
      "11/11 [==============================] - 16s 1s/step - loss: 0.4688 - mse: 0.4315\n",
      "Epoch 32/50\n",
      "11/11 [==============================] - ETA: 0s - loss: 0.4614 - mse: 0.4228WARNING:tensorflow:Early stopping conditioned on metric `val_mse` which is not available. Available metrics are: loss,mse\n",
      "11/11 [==============================] - 16s 1s/step - loss: 0.4614 - mse: 0.4228\n",
      "Epoch 33/50\n",
      "11/11 [==============================] - ETA: 0s - loss: 0.4696 - mse: 0.4220WARNING:tensorflow:Early stopping conditioned on metric `val_mse` which is not available. Available metrics are: loss,mse\n",
      "11/11 [==============================] - 16s 1s/step - loss: 0.4696 - mse: 0.4220\n",
      "Epoch 34/50\n",
      "11/11 [==============================] - ETA: 0s - loss: 0.4201 - mse: 0.3611WARNING:tensorflow:Early stopping conditioned on metric `val_mse` which is not available. Available metrics are: loss,mse\n",
      "11/11 [==============================] - 16s 1s/step - loss: 0.4201 - mse: 0.3611\n",
      "Epoch 35/50\n",
      "11/11 [==============================] - ETA: 0s - loss: 0.4444 - mse: 0.3715WARNING:tensorflow:Early stopping conditioned on metric `val_mse` which is not available. Available metrics are: loss,mse\n",
      "11/11 [==============================] - 16s 1s/step - loss: 0.4444 - mse: 0.3715\n",
      "Epoch 36/50\n",
      "11/11 [==============================] - ETA: 0s - loss: 0.4202 - mse: 0.3565WARNING:tensorflow:Early stopping conditioned on metric `val_mse` which is not available. Available metrics are: loss,mse\n",
      "11/11 [==============================] - 16s 1s/step - loss: 0.4202 - mse: 0.3565\n",
      "Epoch 37/50\n",
      "11/11 [==============================] - ETA: 0s - loss: 0.3759 - mse: 0.3061WARNING:tensorflow:Early stopping conditioned on metric `val_mse` which is not available. Available metrics are: loss,mse\n",
      "11/11 [==============================] - 16s 1s/step - loss: 0.3759 - mse: 0.3061\n",
      "Epoch 38/50\n",
      " 3/11 [=======>......................] - ETA: 12s - loss: 0.3643 - mse: 0.2913WARNING:tensorflow:Can save best model only with val_mse available, skipping.\n",
      "11/11 [==============================] - ETA: 0s - loss: 0.3653 - mse: 0.2919WARNING:tensorflow:Early stopping conditioned on metric `val_mse` which is not available. Available metrics are: loss,mse\n",
      "11/11 [==============================] - 16s 1s/step - loss: 0.3653 - mse: 0.2919\n",
      "Epoch 39/50\n",
      "11/11 [==============================] - ETA: 0s - loss: 0.3748 - mse: 0.3005WARNING:tensorflow:Early stopping conditioned on metric `val_mse` which is not available. Available metrics are: loss,mse\n",
      "11/11 [==============================] - 16s 1s/step - loss: 0.3748 - mse: 0.3005\n",
      "Epoch 40/50\n",
      "11/11 [==============================] - ETA: 0s - loss: 0.3841 - mse: 0.3050WARNING:tensorflow:Early stopping conditioned on metric `val_mse` which is not available. Available metrics are: loss,mse\n",
      "11/11 [==============================] - 16s 1s/step - loss: 0.3841 - mse: 0.3050\n",
      "Epoch 41/50\n",
      "11/11 [==============================] - ETA: 0s - loss: 0.3971 - mse: 0.3183WARNING:tensorflow:Early stopping conditioned on metric `val_mse` which is not available. Available metrics are: loss,mse\n",
      "11/11 [==============================] - 16s 1s/step - loss: 0.3971 - mse: 0.3183\n",
      "Epoch 42/50\n",
      "11/11 [==============================] - ETA: 0s - loss: 0.3762 - mse: 0.2985WARNING:tensorflow:Early stopping conditioned on metric `val_mse` which is not available. Available metrics are: loss,mse\n",
      "11/11 [==============================] - 16s 1s/step - loss: 0.3762 - mse: 0.2985\n",
      "Epoch 43/50\n",
      "11/11 [==============================] - ETA: 0s - loss: 0.3469 - mse: 0.2631WARNING:tensorflow:Early stopping conditioned on metric `val_mse` which is not available. Available metrics are: loss,mse\n",
      "11/11 [==============================] - 16s 1s/step - loss: 0.3469 - mse: 0.2631\n",
      "Epoch 44/50\n",
      "11/11 [==============================] - ETA: 0s - loss: 0.3577 - mse: 0.2706WARNING:tensorflow:Early stopping conditioned on metric `val_mse` which is not available. Available metrics are: loss,mse\n",
      "11/11 [==============================] - 16s 1s/step - loss: 0.3577 - mse: 0.2706\n",
      "Epoch 45/50\n",
      "11/11 [==============================] - ETA: 0s - loss: 0.3225 - mse: 0.2301WARNING:tensorflow:Early stopping conditioned on metric `val_mse` which is not available. Available metrics are: loss,mse\n",
      "11/11 [==============================] - 16s 1s/step - loss: 0.3225 - mse: 0.2301\n",
      "Epoch 46/50\n",
      "11/11 [==============================] - ETA: 0s - loss: 0.3213 - mse: 0.2314WARNING:tensorflow:Early stopping conditioned on metric `val_mse` which is not available. Available metrics are: loss,mse\n",
      "11/11 [==============================] - 16s 1s/step - loss: 0.3213 - mse: 0.2314\n",
      "Epoch 47/50\n",
      "11/11 [==============================] - ETA: 0s - loss: 0.3055 - mse: 0.2054WARNING:tensorflow:Early stopping conditioned on metric `val_mse` which is not available. Available metrics are: loss,mse\n",
      "11/11 [==============================] - 17s 2s/step - loss: 0.3055 - mse: 0.2054\n",
      "Epoch 48/50\n",
      "11/11 [==============================] - ETA: 0s - loss: 0.3142 - mse: 0.2131WARNING:tensorflow:Early stopping conditioned on metric `val_mse` which is not available. Available metrics are: loss,mse\n",
      "11/11 [==============================] - 16s 1s/step - loss: 0.3142 - mse: 0.2131\n",
      "Epoch 49/50\n",
      "11/11 [==============================] - ETA: 0s - loss: 0.3100 - mse: 0.2120WARNING:tensorflow:Early stopping conditioned on metric `val_mse` which is not available. Available metrics are: loss,mse\n",
      "11/11 [==============================] - 17s 2s/step - loss: 0.3100 - mse: 0.2120\n",
      "Epoch 50/50\n",
      " 8/11 [====================>.........] - ETA: 5s - loss: 0.2969 - mse: 0.1994WARNING:tensorflow:Can save best model only with val_mse available, skipping.\n",
      "11/11 [==============================] - ETA: 0s - loss: 0.3014 - mse: 0.2041WARNING:tensorflow:Early stopping conditioned on metric `val_mse` which is not available. Available metrics are: loss,mse\n",
      "11/11 [==============================] - 19s 2s/step - loss: 0.3014 - mse: 0.2041\n"
     ]
    }
   ],
   "source": [
    "\n",
    "from tensorflow.keras.optimizers import Adam\n",
    "opt = Adam(lr=0.001)\n",
    "model_simple.compile(optimizer=opt, loss='mean_absolute_error', metrics=['mse'])\n",
    "\n",
    "from tensorflow.keras.callbacks import ModelCheckpoint, EarlyStopping\n",
    "\n",
    "checkpoint = ModelCheckpoint(\"vgg16_1.h5\", monitor='val_mse', verbose=1, save_best_only=True, save_weights_only=False, mode='auto', save_freq=137)\n",
    "early = EarlyStopping(monitor='val_mse', min_delta=0, patience=20, verbose=1, mode='auto')\n",
    "history = model_simple.fit(train_ds.repeat(), steps_per_epoch=steps_per_epoch, epochs=50, validation_data=val_ds, validation_steps=validation_steps, callbacks=[early, checkpoint])"
   ]
  },
  {
   "cell_type": "code",
   "execution_count": 278,
   "metadata": {},
   "outputs": [
    {
     "ename": "FileNotFoundError",
     "evalue": "[Errno 2] No such file or directory: './images/train/0/10583.jpg'",
     "output_type": "error",
     "traceback": [
      "\u001b[0;31m---------------------------------------------------------------------------\u001b[0m",
      "\u001b[0;31mFileNotFoundError\u001b[0m                         Traceback (most recent call last)",
      "Input \u001b[0;32mIn [278]\u001b[0m, in \u001b[0;36m<module>\u001b[0;34m\u001b[0m\n\u001b[1;32m      1\u001b[0m \u001b[38;5;28;01mfrom\u001b[39;00m \u001b[38;5;21;01mkeras\u001b[39;00m\u001b[38;5;21;01m.\u001b[39;00m\u001b[38;5;21;01mpreprocessing\u001b[39;00m \u001b[38;5;28;01mimport\u001b[39;00m image\n\u001b[1;32m      2\u001b[0m \u001b[38;5;28;01mimport\u001b[39;00m \u001b[38;5;21;01mmatplotlib\u001b[39;00m\u001b[38;5;21;01m.\u001b[39;00m\u001b[38;5;21;01mpyplot\u001b[39;00m \u001b[38;5;28;01mas\u001b[39;00m \u001b[38;5;21;01mplt\u001b[39;00m\n\u001b[0;32m----> 4\u001b[0m img \u001b[38;5;241m=\u001b[39m \u001b[43mimage\u001b[49m\u001b[38;5;241;43m.\u001b[39;49m\u001b[43mload_img\u001b[49m\u001b[43m(\u001b[49m\u001b[38;5;124;43m\"\u001b[39;49m\u001b[38;5;124;43m./images/train/0/10583.jpg\u001b[39;49m\u001b[38;5;124;43m\"\u001b[39;49m\u001b[43m,\u001b[49m\u001b[43mtarget_size\u001b[49m\u001b[38;5;241;43m=\u001b[39;49m\u001b[43m(\u001b[49m\u001b[38;5;241;43m224\u001b[39;49m\u001b[43m,\u001b[49m\u001b[38;5;241;43m224\u001b[39;49m\u001b[43m)\u001b[49m\u001b[43m)\u001b[49m\n\u001b[1;32m      5\u001b[0m img \u001b[38;5;241m=\u001b[39m np\u001b[38;5;241m.\u001b[39masarray(img)\n\u001b[1;32m      6\u001b[0m plt\u001b[38;5;241m.\u001b[39mimshow(img)\n",
      "File \u001b[0;32m~/miniforge3/envs/env_tf/lib/python3.9/site-packages/keras/preprocessing/image.py:313\u001b[0m, in \u001b[0;36mload_img\u001b[0;34m(path, grayscale, color_mode, target_size, interpolation)\u001b[0m\n\u001b[1;32m    277\u001b[0m \u001b[38;5;129m@keras_export\u001b[39m(\u001b[38;5;124m'\u001b[39m\u001b[38;5;124mkeras.utils.load_img\u001b[39m\u001b[38;5;124m'\u001b[39m,\n\u001b[1;32m    278\u001b[0m               \u001b[38;5;124m'\u001b[39m\u001b[38;5;124mkeras.preprocessing.image.load_img\u001b[39m\u001b[38;5;124m'\u001b[39m)\n\u001b[1;32m    279\u001b[0m \u001b[38;5;28;01mdef\u001b[39;00m \u001b[38;5;21mload_img\u001b[39m(path, grayscale\u001b[38;5;241m=\u001b[39m\u001b[38;5;28;01mFalse\u001b[39;00m, color_mode\u001b[38;5;241m=\u001b[39m\u001b[38;5;124m'\u001b[39m\u001b[38;5;124mrgb\u001b[39m\u001b[38;5;124m'\u001b[39m, target_size\u001b[38;5;241m=\u001b[39m\u001b[38;5;28;01mNone\u001b[39;00m,\n\u001b[1;32m    280\u001b[0m              interpolation\u001b[38;5;241m=\u001b[39m\u001b[38;5;124m'\u001b[39m\u001b[38;5;124mnearest\u001b[39m\u001b[38;5;124m'\u001b[39m):\n\u001b[1;32m    281\u001b[0m   \u001b[38;5;124;03m\"\"\"Loads an image into PIL format.\u001b[39;00m\n\u001b[1;32m    282\u001b[0m \n\u001b[1;32m    283\u001b[0m \u001b[38;5;124;03m  Usage:\u001b[39;00m\n\u001b[0;32m   (...)\u001b[0m\n\u001b[1;32m    311\u001b[0m \u001b[38;5;124;03m      ValueError: if interpolation method is not supported.\u001b[39;00m\n\u001b[1;32m    312\u001b[0m \u001b[38;5;124;03m  \"\"\"\u001b[39;00m\n\u001b[0;32m--> 313\u001b[0m   \u001b[38;5;28;01mreturn\u001b[39;00m \u001b[43mimage\u001b[49m\u001b[38;5;241;43m.\u001b[39;49m\u001b[43mload_img\u001b[49m\u001b[43m(\u001b[49m\u001b[43mpath\u001b[49m\u001b[43m,\u001b[49m\u001b[43m \u001b[49m\u001b[43mgrayscale\u001b[49m\u001b[38;5;241;43m=\u001b[39;49m\u001b[43mgrayscale\u001b[49m\u001b[43m,\u001b[49m\u001b[43m \u001b[49m\u001b[43mcolor_mode\u001b[49m\u001b[38;5;241;43m=\u001b[39;49m\u001b[43mcolor_mode\u001b[49m\u001b[43m,\u001b[49m\n\u001b[1;32m    314\u001b[0m \u001b[43m                        \u001b[49m\u001b[43mtarget_size\u001b[49m\u001b[38;5;241;43m=\u001b[39;49m\u001b[43mtarget_size\u001b[49m\u001b[43m,\u001b[49m\u001b[43m \u001b[49m\u001b[43minterpolation\u001b[49m\u001b[38;5;241;43m=\u001b[39;49m\u001b[43minterpolation\u001b[49m\u001b[43m)\u001b[49m\n",
      "File \u001b[0;32m~/miniforge3/envs/env_tf/lib/python3.9/site-packages/keras_preprocessing/image/utils.py:113\u001b[0m, in \u001b[0;36mload_img\u001b[0;34m(path, grayscale, color_mode, target_size, interpolation)\u001b[0m\n\u001b[1;32m    110\u001b[0m \u001b[38;5;28;01mif\u001b[39;00m pil_image \u001b[38;5;129;01mis\u001b[39;00m \u001b[38;5;28;01mNone\u001b[39;00m:\n\u001b[1;32m    111\u001b[0m     \u001b[38;5;28;01mraise\u001b[39;00m \u001b[38;5;167;01mImportError\u001b[39;00m(\u001b[38;5;124m'\u001b[39m\u001b[38;5;124mCould not import PIL.Image. \u001b[39m\u001b[38;5;124m'\u001b[39m\n\u001b[1;32m    112\u001b[0m                       \u001b[38;5;124m'\u001b[39m\u001b[38;5;124mThe use of `load_img` requires PIL.\u001b[39m\u001b[38;5;124m'\u001b[39m)\n\u001b[0;32m--> 113\u001b[0m \u001b[38;5;28;01mwith\u001b[39;00m \u001b[38;5;28;43mopen\u001b[39;49m\u001b[43m(\u001b[49m\u001b[43mpath\u001b[49m\u001b[43m,\u001b[49m\u001b[43m \u001b[49m\u001b[38;5;124;43m'\u001b[39;49m\u001b[38;5;124;43mrb\u001b[39;49m\u001b[38;5;124;43m'\u001b[39;49m\u001b[43m)\u001b[49m \u001b[38;5;28;01mas\u001b[39;00m f:\n\u001b[1;32m    114\u001b[0m     img \u001b[38;5;241m=\u001b[39m pil_image\u001b[38;5;241m.\u001b[39mopen(io\u001b[38;5;241m.\u001b[39mBytesIO(f\u001b[38;5;241m.\u001b[39mread()))\n\u001b[1;32m    115\u001b[0m     \u001b[38;5;28;01mif\u001b[39;00m color_mode \u001b[38;5;241m==\u001b[39m \u001b[38;5;124m'\u001b[39m\u001b[38;5;124mgrayscale\u001b[39m\u001b[38;5;124m'\u001b[39m:\n\u001b[1;32m    116\u001b[0m         \u001b[38;5;66;03m# if image is not already an 8-bit, 16-bit or 32-bit grayscale image\u001b[39;00m\n\u001b[1;32m    117\u001b[0m         \u001b[38;5;66;03m# convert it to an 8-bit grayscale image.\u001b[39;00m\n",
      "\u001b[0;31mFileNotFoundError\u001b[0m: [Errno 2] No such file or directory: './images/train/0/10583.jpg'"
     ]
    }
   ],
   "source": [
    "from keras.preprocessing import image\n",
    "import matplotlib.pyplot as plt\n",
    "\n",
    "img = image.load_img(\"./images/train/0/10583.jpg\",target_size=(224,224))\n",
    "img = np.asarray(img)\n",
    "plt.imshow(img)\n",
    "img = np.expand_dims(img, axis=0)\n",
    "transform.inverse_transform(model.predict(img))"
   ]
  },
  {
   "cell_type": "code",
   "execution_count": 280,
   "metadata": {},
   "outputs": [
    {
     "name": "stderr",
     "output_type": "stream",
     "text": [
      "2022-08-02 18:05:01.211575: I tensorflow/core/grappler/optimizers/custom_graph_optimizer_registry.cc:113] Plugin optimizer for device_type GPU is enabled.\n"
     ]
    },
    {
     "data": {
      "text/plain": [
       "array([[22.344706],\n",
       "       [21.018358],\n",
       "       [16.208502],\n",
       "       [20.84974 ],\n",
       "       [21.792196],\n",
       "       [23.445452],\n",
       "       [19.339102],\n",
       "       [19.703161],\n",
       "       [17.681871],\n",
       "       [19.168802],\n",
       "       [19.072767],\n",
       "       [22.903133],\n",
       "       [23.119665],\n",
       "       [21.389414],\n",
       "       [20.794537],\n",
       "       [20.9201  ],\n",
       "       [19.913818],\n",
       "       [18.958721],\n",
       "       [25.061611],\n",
       "       [21.836166],\n",
       "       [23.08285 ],\n",
       "       [23.348923],\n",
       "       [22.03713 ],\n",
       "       [19.786135],\n",
       "       [21.639399],\n",
       "       [22.036087],\n",
       "       [18.739473],\n",
       "       [21.045334],\n",
       "       [18.809973],\n",
       "       [17.992035],\n",
       "       [22.386972],\n",
       "       [18.627735],\n",
       "       [19.86895 ],\n",
       "       [24.839293],\n",
       "       [22.453434],\n",
       "       [20.010674],\n",
       "       [24.580265],\n",
       "       [22.386454],\n",
       "       [23.570402],\n",
       "       [17.08325 ],\n",
       "       [21.539742],\n",
       "       [19.101175],\n",
       "       [19.117718],\n",
       "       [23.505608],\n",
       "       [25.721235],\n",
       "       [21.945242],\n",
       "       [17.986942],\n",
       "       [20.788452],\n",
       "       [21.841705],\n",
       "       [22.182573],\n",
       "       [21.949541],\n",
       "       [18.104933],\n",
       "       [23.134867],\n",
       "       [24.465147],\n",
       "       [17.645168],\n",
       "       [20.532825],\n",
       "       [19.898804],\n",
       "       [21.68278 ],\n",
       "       [22.300951],\n",
       "       [19.82212 ],\n",
       "       [21.81408 ],\n",
       "       [18.192863],\n",
       "       [21.451328],\n",
       "       [24.152113],\n",
       "       [25.80788 ],\n",
       "       [21.480242],\n",
       "       [22.433401],\n",
       "       [23.642252],\n",
       "       [25.206947],\n",
       "       [24.555939],\n",
       "       [22.715368],\n",
       "       [23.599106],\n",
       "       [20.752277],\n",
       "       [16.50036 ],\n",
       "       [18.210472],\n",
       "       [21.304276],\n",
       "       [21.021835],\n",
       "       [18.210539],\n",
       "       [18.40095 ],\n",
       "       [18.381784],\n",
       "       [22.426434],\n",
       "       [19.289757],\n",
       "       [21.077703],\n",
       "       [16.99771 ],\n",
       "       [19.229202],\n",
       "       [17.997824],\n",
       "       [22.999962],\n",
       "       [19.189957],\n",
       "       [18.00292 ],\n",
       "       [19.834578],\n",
       "       [17.400108],\n",
       "       [21.828207],\n",
       "       [22.043236],\n",
       "       [22.69096 ],\n",
       "       [17.829416],\n",
       "       [18.909288],\n",
       "       [20.17614 ],\n",
       "       [21.208511],\n",
       "       [16.29546 ],\n",
       "       [24.428568],\n",
       "       [19.178453],\n",
       "       [22.34348 ],\n",
       "       [19.055607],\n",
       "       [19.872814],\n",
       "       [24.205711],\n",
       "       [21.810633],\n",
       "       [18.979912],\n",
       "       [18.60798 ],\n",
       "       [18.596972],\n",
       "       [22.638557],\n",
       "       [23.4367  ],\n",
       "       [23.015108],\n",
       "       [20.898308],\n",
       "       [18.429482],\n",
       "       [23.07511 ],\n",
       "       [21.189444],\n",
       "       [20.352547],\n",
       "       [19.346943],\n",
       "       [18.720663],\n",
       "       [20.695618],\n",
       "       [18.68278 ],\n",
       "       [19.065931],\n",
       "       [18.940342],\n",
       "       [22.412342],\n",
       "       [19.331707],\n",
       "       [22.623241],\n",
       "       [24.16579 ],\n",
       "       [18.267736]], dtype=float32)"
      ]
     },
     "execution_count": 280,
     "metadata": {},
     "output_type": "execute_result"
    }
   ],
   "source": [
    "transform.inverse_transform(model.predict(train_ds.take(1)))"
   ]
  },
  {
   "cell_type": "code",
   "execution_count": 282,
   "metadata": {},
   "outputs": [
    {
     "data": {
      "text/plain": [
       "array([[ 13.58317049],\n",
       "       [ 31.28961761],\n",
       "       [ 14.03191982],\n",
       "       [ 23.55282245],\n",
       "       [180.46039274],\n",
       "       [ 43.45703332],\n",
       "       [ 35.62918589],\n",
       "       [ 13.47202892],\n",
       "       [ 13.76417463],\n",
       "       [ 33.70241329],\n",
       "       [ 31.91179762],\n",
       "       [ 30.32912579],\n",
       "       [ 32.80239   ],\n",
       "       [ 13.51316425],\n",
       "       [ 30.57363177],\n",
       "       [ 37.79122324],\n",
       "       [ 32.67322782],\n",
       "       [ 34.66806635],\n",
       "       [ 37.55104317],\n",
       "       [ 29.59484868],\n",
       "       [ 36.84048278],\n",
       "       [ 40.67675991],\n",
       "       [ 14.00720451],\n",
       "       [ 39.73511777],\n",
       "       [ 45.11802633],\n",
       "       [ 37.9531482 ],\n",
       "       [ 34.4868765 ],\n",
       "       [ 24.30440702],\n",
       "       [ 46.80302696],\n",
       "       [ 32.19686422],\n",
       "       [ 13.77433738],\n",
       "       [ 25.34282021],\n",
       "       [ 41.25486785],\n",
       "       [ 30.50743648],\n",
       "       [ 38.35552184],\n",
       "       [203.07631648],\n",
       "       [ 32.7167543 ],\n",
       "       [ 31.28479688],\n",
       "       [ 33.18474827],\n",
       "       [ 48.0037374 ],\n",
       "       [247.17346354],\n",
       "       [ 43.23691641],\n",
       "       [ 30.33453344],\n",
       "       [ 13.78257317],\n",
       "       [ 58.77877177],\n",
       "       [204.41787848],\n",
       "       [ 13.78785858],\n",
       "       [ 30.95004308],\n",
       "       [ 13.60909754],\n",
       "       [ 37.07776919],\n",
       "       [ 14.38134171],\n",
       "       [ 13.37480854],\n",
       "       [ 14.06869403],\n",
       "       [ 24.8082896 ],\n",
       "       [ 22.89123548],\n",
       "       [ 14.29362422],\n",
       "       [ 13.49401695],\n",
       "       [ 32.35588103],\n",
       "       [ 13.79262207],\n",
       "       [ 13.80401391],\n",
       "       [ 12.74582593],\n",
       "       [ 32.64172456],\n",
       "       [ 86.34692064],\n",
       "       [ 30.3449208 ],\n",
       "       [ 13.89923304],\n",
       "       [ 41.59859476],\n",
       "       [ 37.9493359 ],\n",
       "       [222.95383643],\n",
       "       [ 31.7759369 ],\n",
       "       [ 13.92449659],\n",
       "       [ 13.86103086],\n",
       "       [ 33.40618465],\n",
       "       [ 48.46335822],\n",
       "       [ 28.59593048],\n",
       "       [ 31.97663237],\n",
       "       [ 13.74175931],\n",
       "       [ 24.43615048],\n",
       "       [ 58.87831989],\n",
       "       [ 30.86977087],\n",
       "       [ 30.59662723],\n",
       "       [ 31.06305541],\n",
       "       [ 29.98889734],\n",
       "       [ 57.23472434],\n",
       "       [ 34.40105495],\n",
       "       [ 25.9458681 ],\n",
       "       [ 34.38714177],\n",
       "       [ 31.40568687],\n",
       "       [ 52.33587701],\n",
       "       [ 30.59845435],\n",
       "       [ 13.56168104],\n",
       "       [177.46295021],\n",
       "       [ 45.68457067],\n",
       "       [ 32.67756754],\n",
       "       [ 42.34937878],\n",
       "       [ 13.77374277],\n",
       "       [ 55.76761647],\n",
       "       [ 30.3840329 ],\n",
       "       [ 33.95709592],\n",
       "       [ 13.78967728],\n",
       "       [ 58.45853551],\n",
       "       [ 37.01712473],\n",
       "       [ 24.66547378],\n",
       "       [247.33571958],\n",
       "       [ 31.05982933],\n",
       "       [ 28.04218073],\n",
       "       [ 24.32675569],\n",
       "       [ 13.76166983],\n",
       "       [ 13.52377061],\n",
       "       [ 34.79100778],\n",
       "       [ 13.77800256],\n",
       "       [ 13.76454435],\n",
       "       [ 36.54657038],\n",
       "       [ 24.45593462],\n",
       "       [ 41.22875378],\n",
       "       [ 28.43454452],\n",
       "       [ 48.78156203],\n",
       "       [ 13.82685613],\n",
       "       [ 13.56481642],\n",
       "       [ 13.83835702],\n",
       "       [ 30.56240234],\n",
       "       [ 45.66061863],\n",
       "       [ 47.36101702],\n",
       "       [ 13.76873642],\n",
       "       [ 30.64535835],\n",
       "       [ 82.08990279],\n",
       "       [ 31.56617432],\n",
       "       [ 29.96946675],\n",
       "       [ 41.06237966]])"
      ]
     },
     "execution_count": 282,
     "metadata": {},
     "output_type": "execute_result"
    }
   ],
   "source": [
    "transform.inverse_transform(test[0][1])"
   ]
  },
  {
   "cell_type": "code",
   "execution_count": 281,
   "metadata": {},
   "outputs": [
    {
     "data": {
      "text/plain": [
       "array([[ -8.7615351 ],\n",
       "       [ 10.27125938],\n",
       "       [ -2.176582  ],\n",
       "       [  2.70308338],\n",
       "       [158.66819647],\n",
       "       [ 20.01158158],\n",
       "       [ 16.29008409],\n",
       "       [ -6.23113232],\n",
       "       [ -3.91769679],\n",
       "       [ 14.53361103],\n",
       "       [ 12.83903036],\n",
       "       [  7.4259924 ],\n",
       "       [  9.68272485],\n",
       "       [ -7.87624958],\n",
       "       [  9.77909518],\n",
       "       [ 16.87112398],\n",
       "       [ 12.75940946],\n",
       "       [ 15.70934519],\n",
       "       [ 12.48943199],\n",
       "       [  7.7586823 ],\n",
       "       [ 13.75763328],\n",
       "       [ 17.32783718],\n",
       "       [ -8.02992585],\n",
       "       [ 19.94898305],\n",
       "       [ 23.47862775],\n",
       "       [ 15.91706117],\n",
       "       [ 15.74740316],\n",
       "       [  3.25907316],\n",
       "       [ 27.9930542 ],\n",
       "       [ 14.20482931],\n",
       "       [ -8.61263504],\n",
       "       [  6.71508507],\n",
       "       [ 21.38591796],\n",
       "       [  5.66814395],\n",
       "       [ 15.90208785],\n",
       "       [183.06564295],\n",
       "       [  8.13648925],\n",
       "       [  8.89834325],\n",
       "       [  9.61434612],\n",
       "       [ 30.92048736],\n",
       "       [225.63372203],\n",
       "       [ 24.1357411 ],\n",
       "       [ 11.2168157 ],\n",
       "       [ -9.72303444],\n",
       "       [ 33.0575365 ],\n",
       "       [182.47263656],\n",
       "       [ -4.19908371],\n",
       "       [ 10.16159093],\n",
       "       [ -8.23260778],\n",
       "       [ 14.89519588],\n",
       "       [ -7.56819938],\n",
       "       [ -4.73012425],\n",
       "       [ -9.06617269],\n",
       "       [  0.34314258],\n",
       "       [  5.24606718],\n",
       "       [ -6.23920125],\n",
       "       [ -6.40478676],\n",
       "       [ 10.67310171],\n",
       "       [ -8.50832894],\n",
       "       [ -6.01810676],\n",
       "       [ -9.06825336],\n",
       "       [ 14.4488611 ],\n",
       "       [ 64.89559237],\n",
       "       [  6.19280784],\n",
       "       [-11.90864736],\n",
       "       [ 20.11835298],\n",
       "       [ 15.51593479],\n",
       "       [199.31158446],\n",
       "       [  6.56898957],\n",
       "       [-10.63144213],\n",
       "       [ -8.85433741],\n",
       "       [  9.80707881],\n",
       "       [ 27.71108084],\n",
       "       [ 12.09556999],\n",
       "       [ 13.76616026],\n",
       "       [ -7.5625162 ],\n",
       "       [  3.41431515],\n",
       "       [ 40.66778102],\n",
       "       [ 12.46882139],\n",
       "       [ 12.21484279],\n",
       "       [  8.63662185],\n",
       "       [ 10.69914056],\n",
       "       [ 36.15702086],\n",
       "       [ 17.40334568],\n",
       "       [  6.71666583],\n",
       "       [ 16.38931806],\n",
       "       [  8.40572502],\n",
       "       [ 33.14592035],\n",
       "       [ 12.5955342 ],\n",
       "       [ -6.27289652],\n",
       "       [160.06284188],\n",
       "       [ 23.85636365],\n",
       "       [ 10.63433176],\n",
       "       [ 19.65841885],\n",
       "       [ -4.05567351],\n",
       "       [ 36.85832807],\n",
       "       [ 10.20789307],\n",
       "       [ 12.74858457],\n",
       "       [ -2.50578246],\n",
       "       [ 34.02996763],\n",
       "       [ 17.83867129],\n",
       "       [  2.32199462],\n",
       "       [228.28011274],\n",
       "       [ 11.18701515],\n",
       "       [  3.83646937],\n",
       "       [  2.51612299],\n",
       "       [ -5.21824198],\n",
       "       [ -5.08421012],\n",
       "       [ 16.19403626],\n",
       "       [ -8.86055487],\n",
       "       [ -9.67215647],\n",
       "       [ 13.53146227],\n",
       "       [  3.55762682],\n",
       "       [ 22.79927227],\n",
       "       [  5.35943504],\n",
       "       [ 27.59211845],\n",
       "       [ -6.52569056],\n",
       "       [ -5.78212648],\n",
       "       [ -4.88230605],\n",
       "       [  9.86678466],\n",
       "       [ 26.97783932],\n",
       "       [ 28.2950857 ],\n",
       "       [ -5.17160553],\n",
       "       [  8.23301628],\n",
       "       [ 62.75819578],\n",
       "       [  8.94293289],\n",
       "       [  5.80367619],\n",
       "       [ 22.79464322]])"
      ]
     },
     "execution_count": 281,
     "metadata": {},
     "output_type": "execute_result"
    }
   ],
   "source": [
    "test = [elem for elem in train_ds.take(1)]\n",
    "transform.inverse_transform(test[0][1]) - transform.inverse_transform(model.predict(train_ds.take(1)))"
   ]
  },
  {
   "cell_type": "code",
   "execution_count": null,
   "metadata": {},
   "outputs": [],
   "source": []
  }
 ],
 "metadata": {
  "kernelspec": {
   "display_name": "Python 3 (ipykernel)",
   "language": "python",
   "name": "python3"
  },
  "language_info": {
   "codemirror_mode": {
    "name": "ipython",
    "version": 3
   },
   "file_extension": ".py",
   "mimetype": "text/x-python",
   "name": "python",
   "nbconvert_exporter": "python",
   "pygments_lexer": "ipython3",
   "version": "3.9.10"
  }
 },
 "nbformat": 4,
 "nbformat_minor": 4
}
