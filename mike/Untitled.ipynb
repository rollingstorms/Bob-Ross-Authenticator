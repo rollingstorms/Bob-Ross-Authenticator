{
 "cells": [
  {
   "cell_type": "code",
   "execution_count": 1,
   "metadata": {},
   "outputs": [],
   "source": [
    "import pyarrow.feather as feather\n",
    "from tensorflow.keras.preprocessing.image import ImageDataGenerator\n",
    "import tensorflow as tf\n",
    "import numpy as np\n",
    "\n"
   ]
  },
  {
   "cell_type": "code",
   "execution_count": 2,
   "metadata": {},
   "outputs": [],
   "source": [
    "df = feather.read_feather('data/artsy_full.feather')\n"
   ]
  },
  {
   "cell_type": "code",
   "execution_count": 3,
   "metadata": {},
   "outputs": [],
   "source": [
    "df.dropna(subset=['image_versions'], inplace=True)"
   ]
  },
  {
   "cell_type": "code",
   "execution_count": 4,
   "metadata": {},
   "outputs": [],
   "source": [
    "def convert_to_list(value):\n",
    "    value = value.tolist()\n",
    "    \n",
    "    return value\n",
    "\n",
    "df['image_versions'] = df['image_versions'].apply(convert_to_list)"
   ]
  },
  {
   "cell_type": "code",
   "execution_count": 5,
   "metadata": {},
   "outputs": [
    {
     "data": {
      "text/plain": [
       "{'large',\n",
       " 'large_rectangle',\n",
       " 'larger',\n",
       " 'medium',\n",
       " 'medium_rectangle',\n",
       " 'normalized',\n",
       " 'small',\n",
       " 'square',\n",
       " 'tall'}"
      ]
     },
     "execution_count": 5,
     "metadata": {},
     "output_type": "execute_result"
    }
   ],
   "source": [
    "all_versions = set()\n",
    "def get_versions(value):\n",
    "    for i in value:\n",
    "        all_versions.add(i)\n",
    "    \n",
    "df['image_versions'].apply(get_versions)\n",
    "all_versions"
   ]
  },
  {
   "cell_type": "code",
   "execution_count": 22,
   "metadata": {},
   "outputs": [
    {
     "data": {
      "text/plain": [
       "'https://d32dm0rphc51dk.cloudfront.net/NOpIAwQa-3r51Cg9qXKbfA/{image_version}.jpg'"
      ]
     },
     "execution_count": 22,
     "metadata": {},
     "output_type": "execute_result"
    }
   ],
   "source": [
    "df.image_link[0]"
   ]
  },
  {
   "cell_type": "code",
   "execution_count": 6,
   "metadata": {},
   "outputs": [
    {
     "data": {
      "text/plain": [
       "[large_rectangle, larger, medium, medium_rectangle, normalized, small, square, tall]    2949\n",
       "[large_rectangle, larger, medium, medium_rectangle, normalized, small, square]           210\n",
       "[large_rectangle, larger, medium, medium_rectangle, normalized, square, tall]            169\n",
       "[large_rectangle, larger, medium, medium_rectangle, normalized, small, tall]             150\n",
       "[large_rectangle, larger, medium, normalized, small, square, tall]                       119\n",
       "                                                                                        ... \n",
       "[larger, tall]                                                                             1\n",
       "[large_rectangle, medium_rectangle, normalized]                                            1\n",
       "[large_rectangle, medium, small, tall]                                                     1\n",
       "[large_rectangle, larger, small]                                                           1\n",
       "[large_rectangle, larger, tall]                                                            1\n",
       "Name: image_versions, Length: 216, dtype: int64"
      ]
     },
     "execution_count": 6,
     "metadata": {},
     "output_type": "execute_result"
    }
   ],
   "source": [
    "df[df['image_versions'].apply(lambda x: 'large' not in x)].image_versions.value_counts()"
   ]
  },
  {
   "cell_type": "code",
   "execution_count": 12,
   "metadata": {},
   "outputs": [
    {
     "data": {
      "text/plain": [
       "['large',\n",
       " 'large_rectangle',\n",
       " 'larger',\n",
       " 'medium',\n",
       " 'normalized',\n",
       " 'small',\n",
       " 'square',\n",
       " 'tall']"
      ]
     },
     "execution_count": 12,
     "metadata": {},
     "output_type": "execute_result"
    }
   ],
   "source": [
    "df.image_versions.iloc[272]"
   ]
  },
  {
   "cell_type": "code",
   "execution_count": 20,
   "metadata": {},
   "outputs": [
    {
     "data": {
      "text/plain": [
       "{'normalized': 37,\n",
       " 'medium_rectangle': 434,\n",
       " 'larger': 256,\n",
       " 'large': 21180,\n",
       " 'small': 131,\n",
       " 'large_rectangle': 5151,\n",
       " 'square': 138,\n",
       " 'tall': 31,\n",
       " 'medium': 111}"
      ]
     },
     "execution_count": 20,
     "metadata": {},
     "output_type": "execute_result"
    }
   ],
   "source": [
    "first_version = dict().fromkeys(all_versions, 0)\n",
    "for i in range(len(df)):\n",
    "    if 'large'\n",
    "    else:\n",
    "        first_version[df.image_versions.iloc[i][0]] += 1\n",
    "    \n",
    "first_version"
   ]
  },
  {
   "cell_type": "code",
   "execution_count": null,
   "metadata": {},
   "outputs": [],
   "source": []
  }
 ],
 "metadata": {
  "kernelspec": {
   "display_name": "Python 3 (ipykernel)",
   "language": "python",
   "name": "python3"
  },
  "language_info": {
   "codemirror_mode": {
    "name": "ipython",
    "version": 3
   },
   "file_extension": ".py",
   "mimetype": "text/x-python",
   "name": "python",
   "nbconvert_exporter": "python",
   "pygments_lexer": "ipython3",
   "version": "3.9.10"
  }
 },
 "nbformat": 4,
 "nbformat_minor": 4
}
