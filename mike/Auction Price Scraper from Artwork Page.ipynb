{
 "cells": [
  {
   "cell_type": "code",
   "execution_count": 1,
   "metadata": {},
   "outputs": [],
   "source": [
    "import numpy as np\n",
    "import pandas as pd\n",
    "import pyarrow.feather as feather\n",
    "import requests\n",
    "from bs4 import BeautifulSoup\n",
    "from tqdm import tqdm\n",
    "tqdm.pandas()\n",
    "\n",
    "df = feather.read_feather('data/artsy_full.feather')"
   ]
  },
  {
   "cell_type": "code",
   "execution_count": 2,
   "metadata": {},
   "outputs": [
    {
     "data": {
      "text/plain": [
       "'https://www.artsy.net/artwork/gustav-klimt-der-kuss-the-kiss'"
      ]
     },
     "execution_count": 2,
     "metadata": {},
     "output_type": "execute_result"
    }
   ],
   "source": [
    "df.permalink[0]"
   ]
  },
  {
   "cell_type": "code",
   "execution_count": 3,
   "metadata": {},
   "outputs": [],
   "source": [
    "import loginkey\n",
    "\n",
    "from selenium import webdriver\n",
    "from selenium.webdriver.common.by import By\n",
    "\n",
    "from bs4 import BeautifulSoup\n",
    "\n",
    "from selenium.webdriver.support import expected_conditions as EC\n",
    "from selenium.webdriver.support.ui import WebDriverWait\n",
    "from selenium.webdriver.support.select import Select\n",
    "from selenium.webdriver.common.keys import Keys\n",
    "\n",
    "from urllib.parse import unquote\n",
    "\n",
    "import re\n",
    "\n",
    "import time as time\n",
    "import json"
   ]
  },
  {
   "cell_type": "code",
   "execution_count": 7,
   "metadata": {},
   "outputs": [],
   "source": [
    "def initialize_driver():\n",
    "    \n",
    "    from selenium.webdriver.chrome.options import Options\n",
    "    \n",
    "    chrome_options = Options()\n",
    "    chrome_options.add_argument(\"--headless\")\n",
    "    \n",
    "    print('initializing driver...')\n",
    "    \n",
    "    driver = webdriver.Chrome(options=chrome_options)\n",
    "    driver.get('https://www.artsy.net/')\n",
    "    \n",
    "    print('loaded artsy.net, waiting to log in...')\n",
    "    \n",
    "    wait = WebDriverWait(driver, 10)\n",
    "    time.sleep(2)\n",
    "\n",
    "    button = driver.find_element(By.XPATH, '/html/body/div[2]/div/div/div[1]/div/header/div/nav/div[1]/a[2]')\n",
    "    driver.execute_script(\"arguments[0].click();\", button)\n",
    "\n",
    "    user = loginkey.user\n",
    "    password = loginkey.password\n",
    "    \n",
    "    time.sleep(2)\n",
    "    \n",
    "    print('logging in...')\n",
    "    \n",
    "    wait.until(EC.element_to_be_clickable((By.CLASS_NAME, 'hgOWHr')))\n",
    "\n",
    "    driver.find_element(By.CLASS_NAME, 'hgOWHr').click()\n",
    "    driver.find_element(By.XPATH, \"//input[@name='email']\").send_keys(user)\n",
    "    driver.find_element(By.CLASS_NAME, 'jGXstL').click()\n",
    "    driver.find_element(By.XPATH, \"//input[@name='password']\").send_keys(password)\n",
    "    driver.find_element(By.XPATH, \"//button[@type='submit']\").click()\n",
    "    \n",
    "    print('log in sucessful...')\n",
    "    \n",
    "    return driver"
   ]
  },
  {
   "cell_type": "code",
   "execution_count": 12,
   "metadata": {},
   "outputs": [],
   "source": [
    "def get_auction_price(row):\n",
    "    try:\n",
    "        driver.get(row.permalink)\n",
    "\n",
    "        soup = BeautifulSoup(driver.page_source)\n",
    "\n",
    "        json_script = soup.find_all('script')[-7]\n",
    "        json_script = json_script.decode_contents().replace('\\n              var __RELAY_BOOTSTRAP__ = ','').replace(';\\n            ','')\n",
    "        json_string = json.loads(json_script)\n",
    "        json_dict = json.loads(json_string)[0][1]\n",
    "\n",
    "        try:\n",
    "            price = json_dict['json']['data']['artwork']['artists'][0]['auctionResultsConnection']['edges'][0]['node']['price_realized']['display']\n",
    "        except:\n",
    "            price = float('nan')\n",
    "    except:\n",
    "        price = float('nan')\n",
    "        \n",
    "    row['price'] = price\n",
    "    \n",
    "    return row"
   ]
  },
  {
   "cell_type": "code",
   "execution_count": null,
   "metadata": {},
   "outputs": [
    {
     "name": "stdout",
     "output_type": "stream",
     "text": [
      "initializing driver...\n",
      "loaded artsy.net, waiting to log in...\n",
      "logging in...\n",
      "log in sucessful...\n"
     ]
    },
    {
     "name": "stderr",
     "output_type": "stream",
     "text": [
      " 80%|██████████████████████████████████▍        | 16/20 [00:38<00:09,  2.42s/it]"
     ]
    }
   ],
   "source": [
    "driver = initialize_driver()\n",
    "time.sleep(5)\n",
    "df_w_prices = df[:20].progress_apply(get_auction_price, axis=1)"
   ]
  },
  {
   "cell_type": "code",
   "execution_count": null,
   "metadata": {},
   "outputs": [],
   "source": [
    "df_w_prices.price"
   ]
  },
  {
   "cell_type": "code",
   "execution_count": null,
   "metadata": {},
   "outputs": [],
   "source": []
  }
 ],
 "metadata": {
  "kernelspec": {
   "display_name": "Python 3 (ipykernel)",
   "language": "python",
   "name": "python3"
  },
  "language_info": {
   "codemirror_mode": {
    "name": "ipython",
    "version": 3
   },
   "file_extension": ".py",
   "mimetype": "text/x-python",
   "name": "python",
   "nbconvert_exporter": "python",
   "pygments_lexer": "ipython3",
   "version": "3.8.5"
  }
 },
 "nbformat": 4,
 "nbformat_minor": 4
}
