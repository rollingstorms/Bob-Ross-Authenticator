{
 "cells": [
  {
   "cell_type": "code",
   "execution_count": 103,
   "metadata": {},
   "outputs": [],
   "source": [
    "import loginkey\n",
    "\n",
    "from selenium import webdriver\n",
    "from selenium.webdriver.common.by import By\n",
    "\n",
    "from bs4 import BeautifulSoup\n",
    "\n",
    "from selenium.webdriver.support import expected_conditions as EC\n",
    "from selenium.webdriver.support.ui import WebDriverWait\n",
    "from selenium.webdriver.support.select import Select\n",
    "from selenium.webdriver.common.keys import Keys"
   ]
  },
  {
   "cell_type": "code",
   "execution_count": 52,
   "metadata": {},
   "outputs": [],
   "source": [
    "class element_not_have_css_class(object):\n",
    "    \"\"\"An expectation for checking that an element has a particular css class.\n",
    "\n",
    "    locator - used to find the element\n",
    "    returns the WebElement once it has the particular css class\n",
    "    \"\"\"\n",
    "    def __init__(self, locator, css_class):\n",
    "        self.locator = locator\n",
    "        self.css_class = css_class\n",
    "\n",
    "    def __call__(self, driver):\n",
    "        element = driver.find_element(*self.locator)   # Finding the referenced element\n",
    "        if self.css_class not in element.get_attribute(\"class\"):\n",
    "            return element\n",
    "        else:\n",
    "            return False"
   ]
  },
  {
   "cell_type": "code",
   "execution_count": 106,
   "metadata": {},
   "outputs": [],
   "source": [
    "driver = webdriver.Chrome()\n",
    "driver.get('https://www.artsy.net/')"
   ]
  },
  {
   "cell_type": "code",
   "execution_count": 109,
   "metadata": {},
   "outputs": [
    {
     "ename": "ElementNotInteractableException",
     "evalue": "Message: element not interactable\n  (Session info: chrome=103.0.5060.134)\nStacktrace:\n0   chromedriver                        0x0000000100805170 chromedriver + 4477296\n1   chromedriver                        0x000000010079cc18 chromedriver + 4049944\n2   chromedriver                        0x00000001003eec10 chromedriver + 191504\n3   chromedriver                        0x000000010041e988 chromedriver + 387464\n4   chromedriver                        0x0000000100414868 chromedriver + 346216\n5   chromedriver                        0x0000000100414254 chromedriver + 344660\n6   chromedriver                        0x000000010044685c chromedriver + 551004\n7   chromedriver                        0x0000000100412f58 chromedriver + 339800\n8   chromedriver                        0x00000001007dabd4 chromedriver + 4303828\n9   chromedriver                        0x00000001007df094 chromedriver + 4321428\n10  chromedriver                        0x00000001007e3600 chromedriver + 4339200\n11  chromedriver                        0x00000001007dfaf4 chromedriver + 4324084\n12  chromedriver                        0x00000001007be52c chromedriver + 4187436\n13  chromedriver                        0x00000001007f7488 chromedriver + 4420744\n14  chromedriver                        0x00000001007f75ec chromedriver + 4421100\n15  chromedriver                        0x000000010080b92c chromedriver + 4503852\n16  libsystem_pthread.dylib             0x00000001860b9240 _pthread_start + 148\n17  libsystem_pthread.dylib             0x00000001860b4024 thread_start + 8\n",
     "output_type": "error",
     "traceback": [
      "\u001b[0;31m---------------------------------------------------------------------------\u001b[0m",
      "\u001b[0;31mElementNotInteractableException\u001b[0m           Traceback (most recent call last)",
      "Input \u001b[0;32mIn [109]\u001b[0m, in \u001b[0;36m<cell line: 2>\u001b[0;34m()\u001b[0m\n\u001b[1;32m      1\u001b[0m button \u001b[38;5;241m=\u001b[39m driver\u001b[38;5;241m.\u001b[39mfind_element(By\u001b[38;5;241m.\u001b[39mXPATH, \u001b[38;5;124m'\u001b[39m\u001b[38;5;124m/html/body/div[2]/div/div/div[1]/div/header/div/nav/div[1]/a[2]\u001b[39m\u001b[38;5;124m'\u001b[39m)\n\u001b[0;32m----> 2\u001b[0m \u001b[43mbutton\u001b[49m\u001b[38;5;241;43m.\u001b[39;49m\u001b[43mclick\u001b[49m\u001b[43m(\u001b[49m\u001b[43m)\u001b[49m\n\u001b[1;32m      4\u001b[0m \u001b[38;5;66;03m# user = loginkey.user\u001b[39;00m\n\u001b[1;32m      5\u001b[0m \u001b[38;5;66;03m# password = loginkey.password\u001b[39;00m\n\u001b[1;32m      7\u001b[0m user \u001b[38;5;241m=\u001b[39m \u001b[38;5;124m'\u001b[39m\u001b[38;5;124mmichaeljroth815@gmail.com\u001b[39m\u001b[38;5;124m'\u001b[39m\n",
      "File \u001b[0;32m~/opt/anaconda3/envs/learn-env/lib/python3.8/site-packages/selenium/webdriver/remote/webelement.py:89\u001b[0m, in \u001b[0;36mWebElement.click\u001b[0;34m(self)\u001b[0m\n\u001b[1;32m     87\u001b[0m \u001b[38;5;28;01mdef\u001b[39;00m \u001b[38;5;21mclick\u001b[39m(\u001b[38;5;28mself\u001b[39m) \u001b[38;5;241m-\u001b[39m\u001b[38;5;241m>\u001b[39m \u001b[38;5;28;01mNone\u001b[39;00m:\n\u001b[1;32m     88\u001b[0m     \u001b[38;5;124;03m\"\"\"Clicks the element.\"\"\"\u001b[39;00m\n\u001b[0;32m---> 89\u001b[0m     \u001b[38;5;28;43mself\u001b[39;49m\u001b[38;5;241;43m.\u001b[39;49m\u001b[43m_execute\u001b[49m\u001b[43m(\u001b[49m\u001b[43mCommand\u001b[49m\u001b[38;5;241;43m.\u001b[39;49m\u001b[43mCLICK_ELEMENT\u001b[49m\u001b[43m)\u001b[49m\n",
      "File \u001b[0;32m~/opt/anaconda3/envs/learn-env/lib/python3.8/site-packages/selenium/webdriver/remote/webelement.py:773\u001b[0m, in \u001b[0;36mWebElement._execute\u001b[0;34m(self, command, params)\u001b[0m\n\u001b[1;32m    771\u001b[0m     params \u001b[38;5;241m=\u001b[39m {}\n\u001b[1;32m    772\u001b[0m params[\u001b[38;5;124m'\u001b[39m\u001b[38;5;124mid\u001b[39m\u001b[38;5;124m'\u001b[39m] \u001b[38;5;241m=\u001b[39m \u001b[38;5;28mself\u001b[39m\u001b[38;5;241m.\u001b[39m_id\n\u001b[0;32m--> 773\u001b[0m \u001b[38;5;28;01mreturn\u001b[39;00m \u001b[38;5;28;43mself\u001b[39;49m\u001b[38;5;241;43m.\u001b[39;49m\u001b[43m_parent\u001b[49m\u001b[38;5;241;43m.\u001b[39;49m\u001b[43mexecute\u001b[49m\u001b[43m(\u001b[49m\u001b[43mcommand\u001b[49m\u001b[43m,\u001b[49m\u001b[43m \u001b[49m\u001b[43mparams\u001b[49m\u001b[43m)\u001b[49m\n",
      "File \u001b[0;32m~/opt/anaconda3/envs/learn-env/lib/python3.8/site-packages/selenium/webdriver/remote/webdriver.py:430\u001b[0m, in \u001b[0;36mWebDriver.execute\u001b[0;34m(self, driver_command, params)\u001b[0m\n\u001b[1;32m    428\u001b[0m response \u001b[38;5;241m=\u001b[39m \u001b[38;5;28mself\u001b[39m\u001b[38;5;241m.\u001b[39mcommand_executor\u001b[38;5;241m.\u001b[39mexecute(driver_command, params)\n\u001b[1;32m    429\u001b[0m \u001b[38;5;28;01mif\u001b[39;00m response:\n\u001b[0;32m--> 430\u001b[0m     \u001b[38;5;28;43mself\u001b[39;49m\u001b[38;5;241;43m.\u001b[39;49m\u001b[43merror_handler\u001b[49m\u001b[38;5;241;43m.\u001b[39;49m\u001b[43mcheck_response\u001b[49m\u001b[43m(\u001b[49m\u001b[43mresponse\u001b[49m\u001b[43m)\u001b[49m\n\u001b[1;32m    431\u001b[0m     response[\u001b[38;5;124m'\u001b[39m\u001b[38;5;124mvalue\u001b[39m\u001b[38;5;124m'\u001b[39m] \u001b[38;5;241m=\u001b[39m \u001b[38;5;28mself\u001b[39m\u001b[38;5;241m.\u001b[39m_unwrap_value(\n\u001b[1;32m    432\u001b[0m         response\u001b[38;5;241m.\u001b[39mget(\u001b[38;5;124m'\u001b[39m\u001b[38;5;124mvalue\u001b[39m\u001b[38;5;124m'\u001b[39m, \u001b[38;5;28;01mNone\u001b[39;00m))\n\u001b[1;32m    433\u001b[0m     \u001b[38;5;28;01mreturn\u001b[39;00m response\n",
      "File \u001b[0;32m~/opt/anaconda3/envs/learn-env/lib/python3.8/site-packages/selenium/webdriver/remote/errorhandler.py:247\u001b[0m, in \u001b[0;36mErrorHandler.check_response\u001b[0;34m(self, response)\u001b[0m\n\u001b[1;32m    245\u001b[0m         alert_text \u001b[38;5;241m=\u001b[39m value[\u001b[38;5;124m'\u001b[39m\u001b[38;5;124malert\u001b[39m\u001b[38;5;124m'\u001b[39m]\u001b[38;5;241m.\u001b[39mget(\u001b[38;5;124m'\u001b[39m\u001b[38;5;124mtext\u001b[39m\u001b[38;5;124m'\u001b[39m)\n\u001b[1;32m    246\u001b[0m     \u001b[38;5;28;01mraise\u001b[39;00m exception_class(message, screen, stacktrace, alert_text)  \u001b[38;5;66;03m# type: ignore[call-arg]  # mypy is not smart enough here\u001b[39;00m\n\u001b[0;32m--> 247\u001b[0m \u001b[38;5;28;01mraise\u001b[39;00m exception_class(message, screen, stacktrace)\n",
      "\u001b[0;31mElementNotInteractableException\u001b[0m: Message: element not interactable\n  (Session info: chrome=103.0.5060.134)\nStacktrace:\n0   chromedriver                        0x0000000100805170 chromedriver + 4477296\n1   chromedriver                        0x000000010079cc18 chromedriver + 4049944\n2   chromedriver                        0x00000001003eec10 chromedriver + 191504\n3   chromedriver                        0x000000010041e988 chromedriver + 387464\n4   chromedriver                        0x0000000100414868 chromedriver + 346216\n5   chromedriver                        0x0000000100414254 chromedriver + 344660\n6   chromedriver                        0x000000010044685c chromedriver + 551004\n7   chromedriver                        0x0000000100412f58 chromedriver + 339800\n8   chromedriver                        0x00000001007dabd4 chromedriver + 4303828\n9   chromedriver                        0x00000001007df094 chromedriver + 4321428\n10  chromedriver                        0x00000001007e3600 chromedriver + 4339200\n11  chromedriver                        0x00000001007dfaf4 chromedriver + 4324084\n12  chromedriver                        0x00000001007be52c chromedriver + 4187436\n13  chromedriver                        0x00000001007f7488 chromedriver + 4420744\n14  chromedriver                        0x00000001007f75ec chromedriver + 4421100\n15  chromedriver                        0x000000010080b92c chromedriver + 4503852\n16  libsystem_pthread.dylib             0x00000001860b9240 _pthread_start + 148\n17  libsystem_pthread.dylib             0x00000001860b4024 thread_start + 8\n"
     ]
    }
   ],
   "source": [
    "button = driver.find_element(By.XPATH, '/html/body/div[2]/div/div/div[1]/div/header/div/nav/div[1]/a[2]')\n",
    "\n",
    "# user = loginkey.user\n",
    "# password = loginkey.password\n",
    "\n",
    "user = 'michaeljroth815@gmail.com'\n",
    "password = 'YudBYiLj$e7u2Xq'\n",
    "\n",
    "driver.find_element(By.CLASS_NAME, 'hgOWHr').click()\n",
    "driver.find_element(By.XPATH, \"//input[@name='email']\").send_keys(user)\n",
    "driver.find_element(By.CLASS_NAME, 'jGXstL').click()\n",
    "driver.find_element(By.XPATH, \"//input[@name='password']\").send_keys(password)\n",
    "driver.find_element(By.XPATH, \"//button[@type='submit']\").click()"
   ]
  },
  {
   "cell_type": "code",
   "execution_count": null,
   "metadata": {},
   "outputs": [],
   "source": [
    "auction_results = []\n",
    "\n"
   ]
  },
  {
   "cell_type": "code",
   "execution_count": 27,
   "metadata": {},
   "outputs": [],
   "source": [
    "artist = 'gustav-klimt'\n",
    "\n",
    "url = f'https://www.artsy.net/artist/{artist}/auction-results?metric=in'\n",
    "\n",
    "driver.get(url)"
   ]
  },
  {
   "cell_type": "code",
   "execution_count": 71,
   "metadata": {},
   "outputs": [],
   "source": [
    "\n",
    "select_element = driver.find_elements(By.XPATH,'//select')\n",
    "select_object = Select(select_element[1])\n",
    "select_object.select_by_index(1)"
   ]
  },
  {
   "cell_type": "code",
   "execution_count": 75,
   "metadata": {},
   "outputs": [],
   "source": [
    "driver.switch_to.window(driver.window_handles[0])\n",
    "\n",
    "soup = driver.page_source\n",
    "\n",
    "driver.find_element(By.LINK_TEXT, 'Next').click()\n",
    "\n",
    "element = wait.until(element_not_have_css_class((By.CLASS_NAME, 'beISLe'), \"loading\"))"
   ]
  },
  {
   "cell_type": "code",
   "execution_count": 110,
   "metadata": {},
   "outputs": [],
   "source": [
    "driver.close()"
   ]
  },
  {
   "cell_type": "code",
   "execution_count": null,
   "metadata": {},
   "outputs": [],
   "source": []
  }
 ],
 "metadata": {
  "kernelspec": {
   "display_name": "Python 3 (ipykernel)",
   "language": "python",
   "name": "python3"
  },
  "language_info": {
   "codemirror_mode": {
    "name": "ipython",
    "version": 3
   },
   "file_extension": ".py",
   "mimetype": "text/x-python",
   "name": "python",
   "nbconvert_exporter": "python",
   "pygments_lexer": "ipython3",
   "version": "3.8.5"
  }
 },
 "nbformat": 4,
 "nbformat_minor": 4
}
