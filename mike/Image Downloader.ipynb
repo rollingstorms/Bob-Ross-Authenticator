{
 "cells": [
  {
   "cell_type": "code",
   "execution_count": 12,
   "id": "a4380247",
   "metadata": {},
   "outputs": [],
   "source": [
    "import numpy as np\n",
    "import pandas as pd\n",
    "from tqdm import tqdm\n",
    "tqdm.pandas()\n",
    "import concurrent.futures\n",
    "import multiprocessing\n",
    "MAX_THREADS = 30"
   ]
  },
  {
   "cell_type": "code",
   "execution_count": 13,
   "id": "e34a5603",
   "metadata": {},
   "outputs": [],
   "source": [
    "import pyarrow.feather as feather\n",
    "df = feather.read_feather('data/artsy_full.feather')"
   ]
  },
  {
   "cell_type": "code",
   "execution_count": 14,
   "id": "290f6861",
   "metadata": {},
   "outputs": [
    {
     "name": "stdout",
     "output_type": "stream",
     "text": [
      "<class 'pandas.core.frame.DataFrame'>\n",
      "RangeIndex: 27577 entries, 0 to 27576\n",
      "Data columns (total 20 columns):\n",
      " #   Column                Non-Null Count  Dtype  \n",
      "---  ------                --------------  -----  \n",
      " 0   id                    27577 non-null  object \n",
      " 1   slug                  27577 non-null  object \n",
      " 2   title                 27576 non-null  object \n",
      " 3   category              27576 non-null  object \n",
      " 4   medium                27575 non-null  object \n",
      " 5   date                  27577 non-null  object \n",
      " 6   iconicity             27577 non-null  float64\n",
      " 7   sold                  27577 non-null  bool   \n",
      " 8   image_versions        27469 non-null  object \n",
      " 9   dimensions_height_in  14120 non-null  float64\n",
      " 10  dimensions_width_in   13607 non-null  float64\n",
      " 11  dimensions_depth_in   836 non-null    float64\n",
      " 12  permalink             27577 non-null  object \n",
      " 13  api_link              27577 non-null  object \n",
      " 14  thumb_link            26482 non-null  object \n",
      " 15  image_link            27469 non-null  object \n",
      " 16  genes                 27577 non-null  object \n",
      " 17  artist                24686 non-null  object \n",
      " 18  artist_slug           24686 non-null  object \n",
      " 19  artist_id             24686 non-null  object \n",
      "dtypes: bool(1), float64(4), object(15)\n",
      "memory usage: 4.0+ MB\n"
     ]
    }
   ],
   "source": [
    "df.info()"
   ]
  },
  {
   "cell_type": "code",
   "execution_count": 15,
   "id": "68b6fdb6",
   "metadata": {},
   "outputs": [
    {
     "data": {
      "text/plain": [
       "id                          0\n",
       "slug                        0\n",
       "title                       1\n",
       "category                    1\n",
       "medium                      2\n",
       "date                        0\n",
       "iconicity                   0\n",
       "sold                        0\n",
       "image_versions            108\n",
       "dimensions_height_in    13457\n",
       "dimensions_width_in     13970\n",
       "dimensions_depth_in     26741\n",
       "permalink                   0\n",
       "api_link                    0\n",
       "thumb_link               1095\n",
       "image_link                108\n",
       "genes                       0\n",
       "artist                   2891\n",
       "artist_slug              2891\n",
       "artist_id                2891\n",
       "dtype: int64"
      ]
     },
     "execution_count": 15,
     "metadata": {},
     "output_type": "execute_result"
    }
   ],
   "source": [
    "df.isna().sum()"
   ]
  },
  {
   "cell_type": "code",
   "execution_count": 16,
   "id": "8e06366f",
   "metadata": {},
   "outputs": [],
   "source": [
    "import requests\n",
    "\n",
    "def download_img(row):\n",
    "    filename = f'{row.id}.jpg'\n",
    "    try:\n",
    "        img_data = requests.get(row.image_link.replace('{image_version}', 'large'))\n",
    "        with open('images/large/'+ filename, 'wb') as handler:\n",
    "            handler.write(img_data.content)\n",
    "        row['filename'] = filename\n",
    "        \n",
    "    except:\n",
    "        row['filename'] = float('nan')\n",
    "        \n",
    "    return row\n",
    "\n",
    "count = 0\n",
    "def download_img_with_index(index):\n",
    "    row = df.iloc[index]\n",
    "    filename = f'{row.id}.jpg'\n",
    "    try:\n",
    "        img_data = requests.get(row.image_link.replace('{image_version}', 'large'))\n",
    "        with open('images/large/'+ filename, 'wb') as handler:\n",
    "            handler.write(img_data.content)\n",
    "        row['filename'] = filename\n",
    "        \n",
    "    except:\n",
    "        row['filename'] = float('nan')\n",
    "        \n",
    "    print(index, end='\\r')\n",
    "    count += 1\n",
    "        \n",
    "    df.iloc[index] = row\n",
    "\n"
   ]
  },
  {
   "cell_type": "code",
   "execution_count": 17,
   "id": "673020b1",
   "metadata": {},
   "outputs": [
    {
     "name": "stdout",
     "output_type": "stream",
     "text": [
      "275762754027302272291868918692812611510162316261621171218192106209523282361264027142795307730933125343935613559454248654854485648615018509551005762596860506047604564756507658373707409789679327947797581308226848984908805957995869816981799141058110767110521115511503117291171711806123621240112753127541296513009131041310313182132351330413544136261415514737147431581816263165981666516765168491750118109182561843618676186851935119450194881988820362205382077321008212342129321409215062185421855221482248322488225252357823735246742481024812255852568725858264292657726569267272720327452\r"
     ]
    }
   ],
   "source": [
    "pd.options.mode.chained_assignment = None\n",
    "\n",
    "indices = df.index\n",
    "\n",
    "threads = min(MAX_THREADS, len(indices))\n",
    "count = 0\n",
    "with concurrent.futures.ThreadPoolExecutor(max_workers=threads) as executor:\n",
    "    executor.map(download_img_with_index, indices)"
   ]
  },
  {
   "cell_type": "code",
   "execution_count": 18,
   "id": "508d9365",
   "metadata": {},
   "outputs": [],
   "source": [
    "import pyarrow.feather as feather"
   ]
  },
  {
   "cell_type": "code",
   "execution_count": 20,
   "id": "3fd0128a",
   "metadata": {},
   "outputs": [],
   "source": [
    "feather.write_feather(df, 'artsy_full_images.feather')"
   ]
  },
  {
   "cell_type": "code",
   "execution_count": null,
   "id": "fd4e64f5",
   "metadata": {},
   "outputs": [],
   "source": []
  }
 ],
 "metadata": {
  "kernelspec": {
   "display_name": "Python 3 (ipykernel)",
   "language": "python",
   "name": "python3"
  },
  "language_info": {
   "codemirror_mode": {
    "name": "ipython",
    "version": 3
   },
   "file_extension": ".py",
   "mimetype": "text/x-python",
   "name": "python",
   "nbconvert_exporter": "python",
   "pygments_lexer": "ipython3",
   "version": "3.9.10"
  }
 },
 "nbformat": 4,
 "nbformat_minor": 5
}
