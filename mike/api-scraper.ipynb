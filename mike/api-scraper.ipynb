{
 "cells": [
  {
   "cell_type": "code",
   "execution_count": 1,
   "metadata": {},
   "outputs": [],
   "source": [
    "import api_keys\n",
    "import requests\n",
    "import time as time\n",
    "import pandas as pd\n",
    "from bs4 import BeautifulSoup"
   ]
  },
  {
   "cell_type": "code",
   "execution_count": 2,
   "metadata": {},
   "outputs": [],
   "source": [
    "client_id = api_keys.client_id\n",
    "client_secret = api_keys.client_secret"
   ]
  },
  {
   "cell_type": "code",
   "execution_count": 3,
   "metadata": {},
   "outputs": [],
   "source": [
    "class ArtsyScraper:\n",
    "    \n",
    "    def __init__(self, client_id, client_secret):\n",
    "        \n",
    "        auth_token_uri = 'https://api.artsy.net/api/tokens/xapp_token'\n",
    "\n",
    "        self.api_url = 'https://api.artsy.net/api'\n",
    "\n",
    "        token = requests.post(auth_token_uri, params={'client_id': client_id, 'client_secret': client_secret})\n",
    "        self.token = token.json()['token']\n",
    "        \n",
    "        return None\n",
    "    \n",
    "    def scrape_api(self):\n",
    "        self._api_scraper()\n",
    "        \n",
    "    def scrape_auctions(self):\n",
    "        self.auction_results = self._auction_scraper()\n",
    "        \n",
    "    def make_slugs(self):\n",
    "        self.artist_slugs = self.results_df.artist_slug.unique()\n",
    "\n",
    "    def _api_scraper(self):\n",
    "        time_split = .5\n",
    "        \n",
    "        self.results = []\n",
    "        \n",
    "        endpoint = self.api_url + '/artworks/'\n",
    "\n",
    "        is_next = True\n",
    "        \n",
    "        keys_to_keep = ['id', 'slug', 'title', 'category', 'medium', 'date', 'iconicity', 'sold', 'image_versions']\n",
    "        count = 0\n",
    "        bad = 0\n",
    "        \n",
    "        r = requests.get(endpoint, headers={'X-Xapp-Token': self.token})\n",
    "        rjson = r.json()\n",
    "       \n",
    "        while(is_next and count < 10000):\n",
    "            try:\n",
    "                r = requests.get(endpoint, headers={'X-Xapp-Token': self.token})\n",
    "                rjson = r.json()\n",
    "\n",
    "                artworks = rjson['_embedded']['artworks']\n",
    "\n",
    "                for artwork in artworks:\n",
    "                    \n",
    "                    artwork_result = {key: artwork[key] for key in artwork.keys() if key in keys_to_keep}\n",
    "                    try:\n",
    "                        artwork_result['dimensions_height_in'] = artwork['dimensions']['in']['height']\n",
    "                    except:\n",
    "                        artwork_result['dimensions_height_in'] = float('nan')\n",
    "                    try:\n",
    "                        artwork_result['dimensions_width_in'] = artwork['dimensions']['in']['width']\n",
    "                    except:\n",
    "                        artwork_result['dimensions_width_in'] = float('nan')\n",
    "                    try:\n",
    "                        artwork_result['dimensions_depth_in'] = artwork['dimensions']['in']['depth']\n",
    "                    except:\n",
    "                        artwork_result['dimensions_depth_in'] = float('nan')\n",
    "                    try:\n",
    "                        artwork_result['permalink'] = artwork['_links']['permalink']['href']\n",
    "                    except:\n",
    "                        artwork_result['permalink'] = float('nan')\n",
    "                    try:\n",
    "                        artwork_result['api_link'] = artwork['_links']['self']['href']\n",
    "                    except:\n",
    "                        artwork_result['api_link'] = float('nan')\n",
    "                    try:\n",
    "                        artwork_result['thumb_link'] = artwork['_links']['thumbnail']['href']\n",
    "                    except:\n",
    "                        artwork_result['thumb_link'] = float('nan')\n",
    "                    try:\n",
    "                        artwork_result['image_link'] = artwork['_links']['image']['href']\n",
    "                    except:\n",
    "                        artwork_result['image_link'] = float('nan')\n",
    "                    try:\n",
    "                        is_next_genes = True\n",
    "                        gene_api_url = artwork['_links']['genes']['href']\n",
    "                        genes = []\n",
    "                        while(is_next_genes):\n",
    "                            genes_request = requests.get(gene_api_url, headers={'X-Xapp-Token': self.token})\n",
    "                            for gene in genes_request.json()['_embedded']['genes']:\n",
    "                                genes.append(gene['name'])\n",
    "                            try:\n",
    "                                gene_api_url = genes_request.json()['_links']['next']['href']\n",
    "                                time.sleep(time_split)\n",
    "                            except:\n",
    "                                is_next_genes = False\n",
    "\n",
    "                        artwork_result['genes'] = genes\n",
    "                    except: \n",
    "                        artwork_result['genes'] = float('nan')\n",
    "                        \n",
    "                    try:    \n",
    "                        artist_href = artwork['_links']['artists']['href']\n",
    "                        artist_request = requests.get(artist_href, headers={'X-Xapp-Token': self.token}, params={'total_count':1})\n",
    "                        artist_json = artist_request.json()['_embedded']['artists'][0]\n",
    "                        artwork_result['artist'] = artist_json['name']\n",
    "                        artwork_result['artist_slug'] = artist_json['slug']\n",
    "                        artwork_result['artist_id'] = artist_json['id']\n",
    "                    except:\n",
    "                        artwork_result['artist'] = float('nan')\n",
    "                        artwork_result['artist_slug'] = float('nan')\n",
    "                        artwork_result['artist_id'] = float('nan')\n",
    "\n",
    "                    self.results.append(artwork_result)\n",
    "                    print(f'{count+1} works collected. {bad} bad scrapes', end='\\r')\n",
    "                    count+=1\n",
    "\n",
    "                    time.sleep(time_split)\n",
    "            except:\n",
    "                bad += 1\n",
    "            try:\n",
    "                endpoint = rjson['_links']['next']['href']\n",
    "            except:\n",
    "                is_next = False\n",
    "                break\n",
    "            \n",
    "        return self.results           \n",
    "        \n",
    "    \n"
   ]
  },
  {
   "cell_type": "code",
   "execution_count": 4,
   "metadata": {},
   "outputs": [],
   "source": [
    "scraper = ArtsyScraper(client_id, client_secret)"
   ]
  },
  {
   "cell_type": "code",
   "execution_count": null,
   "metadata": {},
   "outputs": [],
   "source": [
    "scraper.scrape_api()"
   ]
  },
  {
   "cell_type": "code",
   "execution_count": null,
   "metadata": {},
   "outputs": [],
   "source": [
    "results_df = pd.DataFrame(scraper.results)"
   ]
  },
  {
   "cell_type": "code",
   "execution_count": null,
   "metadata": {},
   "outputs": [],
   "source": [
    "results_df.artist_slug.unique()"
   ]
  },
  {
   "cell_type": "code",
   "execution_count": null,
   "metadata": {},
   "outputs": [],
   "source": [
    "results_df"
   ]
  },
  {
   "cell_type": "code",
   "execution_count": null,
   "metadata": {},
   "outputs": [],
   "source": [
    "import pyarrow.feather as feather"
   ]
  },
  {
   "cell_type": "code",
   "execution_count": null,
   "metadata": {},
   "outputs": [],
   "source": [
    "results_df.to_csv('artsy_data_csv.csv')"
   ]
  },
  {
   "cell_type": "code",
   "execution_count": null,
   "metadata": {},
   "outputs": [],
   "source": [
    "feather.write_feather(results_df[['id','slug','genes']],'artsy_genes.feather')"
   ]
  }
 ],
 "metadata": {
  "kernelspec": {
   "display_name": "Python 3 (ipykernel)",
   "language": "python",
   "name": "python3"
  },
  "language_info": {
   "codemirror_mode": {
    "name": "ipython",
    "version": 3
   },
   "file_extension": ".py",
   "mimetype": "text/x-python",
   "name": "python",
   "nbconvert_exporter": "python",
   "pygments_lexer": "ipython3",
   "version": "3.8.5"
  }
 },
 "nbformat": 4,
 "nbformat_minor": 4
}
